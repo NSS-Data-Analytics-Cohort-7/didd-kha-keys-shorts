{
 "cells": [
  {
   "cell_type": "code",
   "execution_count": null,
   "id": "a31af3a5",
   "metadata": {},
   "outputs": [],
   "source": [
    "import pandas as pd\n",
    "import numpy as np\n",
    "import matplotlib.pyplot as plt\n",
    "import seaborn as sns\n",
    "%matplotlib inline\n"
   ]
  },
  {
   "cell_type": "code",
   "execution_count": null,
   "id": "19b6353e",
   "metadata": {},
   "outputs": [],
   "source": [
    "diag_delay_sheet = pd.read_excel('../Data/TEIS-NSS Project Data 10-2022.xlsx', \n",
    "                                 sheet_name='Elig Timeline Rpt 2018-2022')\n"
   ]
  },
  {
   "cell_type": "code",
   "execution_count": null,
   "id": "59e052a5",
   "metadata": {},
   "outputs": [],
   "source": [
    "diag_delay_sheet.head()"
   ]
  },
  {
   "cell_type": "code",
   "execution_count": null,
   "id": "877a702d",
   "metadata": {},
   "outputs": [],
   "source": [
    "ent_data_sheet = pd.read_excel('../Data/TEIS-NSS Project Data 10-2022.xlsx', sheet_name='ECO with Exit21-22')\n"
   ]
  },
  {
   "cell_type": "code",
   "execution_count": null,
   "id": "2829cf9e",
   "metadata": {},
   "outputs": [],
   "source": [
    "ent_data_sheet  = ent_data_sheet[(ent_data_sheet ['OC1 Data Check'] == 1\n",
    "                                            )]\n"
   ]
  },
  {
   "cell_type": "code",
   "execution_count": null,
   "id": "28d6756b",
   "metadata": {},
   "outputs": [],
   "source": [
    "ent_data_sheet  = ent_data_sheet[(ent_data_sheet ['OC2 Data Check'] == 1\n",
    "                                            )]"
   ]
  },
  {
   "cell_type": "code",
   "execution_count": null,
   "id": "d94d024f",
   "metadata": {},
   "outputs": [],
   "source": [
    "ent_data_sheet  = ent_data_sheet[(ent_data_sheet ['OC3 Data Check'] == 1\n",
    "                                            )]"
   ]
  },
  {
   "cell_type": "code",
   "execution_count": null,
   "id": "75d9ad0a",
   "metadata": {},
   "outputs": [],
   "source": [
    "ent_data_sheet.rename(columns = {'CHILD_ID':'Child ID'}, inplace = True)\n",
    "ent_data_sheet"
   ]
  },
  {
   "cell_type": "code",
   "execution_count": null,
   "id": "ba2d6916",
   "metadata": {},
   "outputs": [],
   "source": [
    "combined_table = pd.merge(ent_data_sheet, diag_delay_sheet, on = ['Child ID'], how = 'inner')\n",
    "combined_table"
   ]
  },
  {
   "cell_type": "code",
   "execution_count": null,
   "id": "20f9bd01",
   "metadata": {},
   "outputs": [],
   "source": [
    "combined_table_delay = combined_table[(combined_table['Init. Elig. Category'] == \n",
    "                                            'Developmental Evaluation')]"
   ]
  },
  {
   "cell_type": "code",
   "execution_count": null,
   "id": "b1dfeb09",
   "metadata": {},
   "outputs": [],
   "source": [
    "combined_table_delay"
   ]
  },
  {
   "cell_type": "code",
   "execution_count": null,
   "id": "532b814e",
   "metadata": {},
   "outputs": [],
   "source": [
    "combined_table_diagnosed = combined_table[(combined_table['Init. Elig. Category'] == \n",
    "                                            'Diagnosed Condition')]"
   ]
  },
  {
   "cell_type": "code",
   "execution_count": null,
   "id": "b7093a2c",
   "metadata": {},
   "outputs": [],
   "source": [
    "combined_table_diagnosed"
   ]
  },
  {
   "cell_type": "code",
   "execution_count": null,
   "id": "b771cb2e",
   "metadata": {},
   "outputs": [],
   "source": [
    "combined_table_both = combined_table[(combined_table['Init. Elig. Category'] == \n",
    "                                            'Diagnosed Condition, Developmental Evaluation')]  \n"
   ]
  },
  {
   "cell_type": "code",
   "execution_count": null,
   "id": "e7762160",
   "metadata": {},
   "outputs": [],
   "source": [
    "combined_table_both"
   ]
  },
  {
   "cell_type": "code",
   "execution_count": null,
   "id": "922ee44c",
   "metadata": {},
   "outputs": [],
   "source": [
    "Lost_Child  = combined_table[combined_table['Init. Elig. Category'].isna()]"
   ]
  },
  {
   "cell_type": "code",
   "execution_count": null,
   "id": "9b15bfa4",
   "metadata": {},
   "outputs": [],
   "source": [
    "Lost_Child"
   ]
  },
  {
   "cell_type": "code",
   "execution_count": null,
   "id": "9ab7577a",
   "metadata": {},
   "outputs": [],
   "source": []
  },
  {
   "cell_type": "code",
   "execution_count": null,
   "id": "ce3cd54f",
   "metadata": {},
   "outputs": [],
   "source": []
  }
 ],
 "metadata": {
  "kernelspec": {
   "display_name": "Python 3 (ipykernel)",
   "language": "python",
   "name": "python3"
  },
  "language_info": {
   "codemirror_mode": {
    "name": "ipython",
    "version": 3
   },
   "file_extension": ".py",
   "mimetype": "text/x-python",
   "name": "python",
   "nbconvert_exporter": "python",
   "pygments_lexer": "ipython3",
   "version": "3.9.7"
  }
 },
 "nbformat": 4,
 "nbformat_minor": 5
}
