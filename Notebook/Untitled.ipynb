{
 "cells": [
  {
   "cell_type": "code",
   "execution_count": 6,
   "id": "e868fb9d",
   "metadata": {},
   "outputs": [],
   "source": [
    "import pandas as pd\n",
    "import numpy as np\n",
    "import matplotlib.pyplot as plt\n",
    "import seaborn as sns\n",
    "%matplotlib inline\n"
   ]
  },
  {
   "cell_type": "code",
   "execution_count": 7,
   "id": "480e36e7",
   "metadata": {},
   "outputs": [],
   "source": [
    "diag_delay_sheet = pd.read_excel('../Data/TEIS-NSS Project Data 10-2022.xlsx', sheet_name='Elig Timeline Rpt 2018-2022')\n"
   ]
  },
  {
   "cell_type": "code",
   "execution_count": 9,
   "id": "58e39b58",
   "metadata": {},
   "outputs": [],
   "source": [
    "ent_data_sheet = pd.read_excel('../Data/TEIS-NSS Project Data 10-2022.xlsx', sheet_name='ECO with Exit21-22')\n"
   ]
  },
  {
   "cell_type": "code",
   "execution_count": null,
   "id": "8a50f64f",
   "metadata": {},
   "outputs": [],
   "source": []
  },
  {
   "cell_type": "code",
   "execution_count": null,
   "id": "f4a4e4c0",
   "metadata": {},
   "outputs": [],
   "source": []
  }
 ],
 "metadata": {
  "kernelspec": {
   "display_name": "Python 3 (ipykernel)",
   "language": "python",
   "name": "python3"
  },
  "language_info": {
   "codemirror_mode": {
    "name": "ipython",
    "version": 3
   },
   "file_extension": ".py",
   "mimetype": "text/x-python",
   "name": "python",
   "nbconvert_exporter": "python",
   "pygments_lexer": "ipython3",
   "version": "3.9.7"
  }
 },
 "nbformat": 4,
 "nbformat_minor": 5
}
