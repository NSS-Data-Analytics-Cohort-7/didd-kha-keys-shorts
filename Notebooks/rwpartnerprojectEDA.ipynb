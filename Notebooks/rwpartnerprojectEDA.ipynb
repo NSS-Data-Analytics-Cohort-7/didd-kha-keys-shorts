{
 "cells": [
  {
   "cell_type": "code",
   "execution_count": null,
   "id": "67eb2db4",
   "metadata": {},
   "outputs": [],
   "source": [
    "import pandas as pd"
   ]
  },
  {
   "cell_type": "code",
   "execution_count": null,
   "id": "c9b5f771",
   "metadata": {},
   "outputs": [],
   "source": [
    "import numpy as np"
   ]
  },
  {
   "cell_type": "code",
   "execution_count": null,
   "id": "5b646200",
   "metadata": {},
   "outputs": [],
   "source": [
    "import matplotlib.pyplot as plt"
   ]
  },
  {
   "cell_type": "code",
   "execution_count": null,
   "id": "4004347d",
   "metadata": {},
   "outputs": [],
   "source": [
    "import seaborn as sns"
   ]
  },
  {
   "cell_type": "code",
   "execution_count": null,
   "id": "8216dc7b",
   "metadata": {},
   "outputs": [],
   "source": [
    "%matplotlib inline"
   ]
  },
  {
   "cell_type": "markdown",
   "id": "9ed28b4d",
   "metadata": {},
   "source": [
    "File name: TEIS-NSS Project Data 10-2022\n",
    "\n",
    "Tabs to look at: \n",
    "-ECO with Exit21-22\n",
    "-Elig Timeline Rpt 2018-2022"
   ]
  },
  {
   "cell_type": "code",
   "execution_count": null,
   "id": "fd59b1d6",
   "metadata": {},
   "outputs": [],
   "source": [
    "timeline_df = pd.read_excel ('../Data/TEIS-NSS Project Data 10-2022.xlsx', sheet_name='Elig Timeline Rpt 2018-2022')\n",
    "timeline_df"
   ]
  },
  {
   "cell_type": "code",
   "execution_count": null,
   "id": "e9bf8c46",
   "metadata": {},
   "outputs": [],
   "source": [
    "dev_eval =timeline_df.loc[timeline_df['Init. Elig. Category'].isin(['Developmental Evaluation'])]\n",
    "dev_eval\n",
    "\n",
    "# shows all rows for kids with developmental evaluation (28317 rows)"
   ]
  },
  {
   "cell_type": "code",
   "execution_count": null,
   "id": "b0f96367",
   "metadata": {},
   "outputs": [],
   "source": [
    "diagnoses =timeline_df.loc[timeline_df['Init. Elig. Category'].isin(['Diagnosed Condition'])]\n",
    "diagnoses\n",
    "\n",
    "# shows all rows for kids with a diagnosed condition (4675 rows)"
   ]
  },
  {
   "cell_type": "code",
   "execution_count": null,
   "id": "e8265194",
   "metadata": {},
   "outputs": [],
   "source": [
    "eval_and_diagnosis =timeline_df.loc[timeline_df['Init. Elig. Category'].isin(['Diagnosed Condition, Developmental Evaluation'])]\n",
    "eval_and_diagnosis\n",
    "\n",
    "# shows all rows for kids with developmental evaluation and diagnosis (5298 rows)"
   ]
  },
  {
   "cell_type": "code",
   "execution_count": null,
   "id": "da12e983",
   "metadata": {},
   "outputs": [],
   "source": []
  },
  {
   "cell_type": "code",
   "execution_count": null,
   "id": "f7ccb390",
   "metadata": {},
   "outputs": [],
   "source": []
  },
  {
   "cell_type": "code",
   "execution_count": null,
   "id": "453640c6",
   "metadata": {},
   "outputs": [],
   "source": []
  },
  {
   "cell_type": "markdown",
   "id": "c999a70f",
   "metadata": {},
   "source": [
    "# Outcomes definitions\n",
    "\n",
    "OC1/Outcome A: Positive social-emotional skills (including social relationships)\n",
    "\n",
    "OC2/Outcome B: Acquisition and use of knowledge and skills (including early language/communication)\n",
    "\n",
    "OC3/Outcome C: Use of appropriate behaviors to meet their needs\n",
    "\n",
    "    -OC1-a: Children who did not improve functioning\n",
    "    \n",
    "    -OC1-b: Children who improved functioning, but not sufficient to move nearer to functioning comparable to same-aged peers\n",
    "    \n",
    "    -OC1-c: Children who improved functioning to a level nearer to same-aged peers, but did not reach it\n",
    "    \n",
    "    -OC1-d: Children who improved functioning to reach a level comparable to same-aged peers\n",
    "    \n",
    "    -OC1-e: Children who maintained functioning at a level comparable to same-aged peers"
   ]
  },
  {
   "cell_type": "code",
   "execution_count": null,
   "id": "55945f31",
   "metadata": {},
   "outputs": [],
   "source": [
    "exit_df = pd.read_excel ('../Data/TEIS-NSS Project Data 10-2022.xlsx', sheet_name='ECO with Exit21-22')\n",
    "exit_df"
   ]
  },
  {
   "cell_type": "code",
   "execution_count": null,
   "id": "e3a3b600",
   "metadata": {},
   "outputs": [],
   "source": []
  },
  {
   "cell_type": "code",
   "execution_count": null,
   "id": "bf652edf",
   "metadata": {},
   "outputs": [],
   "source": []
  }
 ],
 "metadata": {
  "kernelspec": {
   "display_name": "Python 3 (ipykernel)",
   "language": "python",
   "name": "python3"
  },
  "language_info": {
   "codemirror_mode": {
    "name": "ipython",
    "version": 3
   },
   "file_extension": ".py",
   "mimetype": "text/x-python",
   "name": "python",
   "nbconvert_exporter": "python",
   "pygments_lexer": "ipython3",
   "version": "3.9.12"
  }
 },
 "nbformat": 4,
 "nbformat_minor": 5
}
