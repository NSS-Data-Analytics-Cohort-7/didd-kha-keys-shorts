{
 "cells": [
  {
   "cell_type": "markdown",
   "id": "cc09588a",
   "metadata": {},
   "source": [
    "## EDA for DIDD project \n",
    "#### importing essential packages"
   ]
  },
  {
   "cell_type": "code",
   "execution_count": null,
   "id": "0c2575ba",
   "metadata": {},
   "outputs": [],
   "source": [
    "import pandas as pd\n",
    "import numpy as np\n",
    "import matplotlib.pyplot as plt\n",
    "import seaborn as sns"
   ]
  },
  {
   "cell_type": "markdown",
   "id": "f6456bc9",
   "metadata": {},
   "source": [
    "#### the following below gets rid of needing plt.show()"
   ]
  },
  {
   "cell_type": "code",
   "execution_count": null,
   "id": "af029038",
   "metadata": {},
   "outputs": [],
   "source": [
    "%matplotlib inline"
   ]
  },
  {
   "cell_type": "markdown",
   "id": "6dc87671",
   "metadata": {},
   "source": [
    "#### importing the excel data with the specific sheets"
   ]
  },
  {
   "cell_type": "code",
   "execution_count": null,
   "id": "7a2efbec",
   "metadata": {},
   "outputs": [],
   "source": [
    "eco_df = pd.read_excel ('..\\Data\\TEIS-NSS Project Data 10-2022.xlsx', sheet_name='ECO with Exit21-22')    "
   ]
  },
  {
   "cell_type": "code",
   "execution_count": null,
   "id": "f730f65d",
   "metadata": {
    "scrolled": false
   },
   "outputs": [],
   "source": [
    "eco_df"
   ]
  },
  {
   "cell_type": "code",
   "execution_count": null,
   "id": "aaed703b",
   "metadata": {},
   "outputs": [],
   "source": [
    "eco_df_check = eco_df['OC2 Data Check'].isin([1.0])\n",
    "eco_df[eco_df_check]"
   ]
  },
  {
   "cell_type": "code",
   "execution_count": null,
   "id": "fd9ad87c",
   "metadata": {},
   "outputs": [],
   "source": [
    "elig_df = pd.read_excel ('..\\Data\\TEIS-NSS Project Data 10-2022.xlsx', sheet_name = 'Elig Timeline Rpt 2018-2022') "
   ]
  },
  {
   "cell_type": "code",
   "execution_count": null,
   "id": "d32f464d",
   "metadata": {
    "scrolled": true
   },
   "outputs": [],
   "source": [
    "elig_df.head()"
   ]
  },
  {
   "cell_type": "code",
   "execution_count": null,
   "id": "20a8c493",
   "metadata": {},
   "outputs": [],
   "source": [
    "eco_df.rename (columns = {'CHILD_ID':'Child ID'}, inplace=True )\n",
    "eco_df"
   ]
  },
  {
   "cell_type": "markdown",
   "id": "7e17626e",
   "metadata": {},
   "source": [
    "## merging the data frames"
   ]
  },
  {
   "cell_type": "code",
   "execution_count": null,
   "id": "0441d53a",
   "metadata": {},
   "outputs": [],
   "source": [
    "eco_elig_df = pd.merge(eco_df, elig_df, how=\"outer\", on= \"Child ID\")\n",
    "eco_elig_df"
   ]
  },
  {
   "cell_type": "code",
   "execution_count": null,
   "id": "38bd2bfc",
   "metadata": {
    "scrolled": true
   },
   "outputs": [],
   "source": [
    "eco_elig_check = eco_elig_df['OC2 Data Check'].isin([1.0])\n",
    "EEC2 = pd.DataFrame(eco_elig_df[eco_elig_check])\n",
    "\n",
    "EEC2"
   ]
  },
  {
   "cell_type": "code",
   "execution_count": null,
   "id": "1b146365",
   "metadata": {
    "scrolled": true
   },
   "outputs": [],
   "source": [
    "EEC2.count(axis = 0)"
   ]
  },
  {
   "cell_type": "code",
   "execution_count": null,
   "id": "cc3e4bcb",
   "metadata": {},
   "outputs": [],
   "source": [
    "eco_elig_check = eco_elig_df['OC1 Data Check'].isin([1.0])\n",
    "EEC1 = pd.DataFrame(eco_elig_df[eco_elig_check])\n",
    "\n",
    "EEC1.shape"
   ]
  },
  {
   "cell_type": "code",
   "execution_count": null,
   "id": "0a593b92",
   "metadata": {},
   "outputs": [],
   "source": [
    "eco_elig_check = eco_elig_df['OC3 Data Check'].isin([1.0])\n",
    "EEC3 = pd.DataFrame(eco_elig_df[eco_elig_check])\n",
    "\n",
    "EEC3.shape"
   ]
  },
  {
   "cell_type": "code",
   "execution_count": null,
   "id": "558b44cd",
   "metadata": {},
   "outputs": [],
   "source": [
    "# Outcome 1 counts \n",
    "EEC1['Init. Elig. Category'].value_counts()"
   ]
  },
  {
   "cell_type": "code",
   "execution_count": null,
   "id": "1d7ae7a9",
   "metadata": {},
   "outputs": [],
   "source": [
    "# Outcome 2 counts\n",
    "EEC2['Init. Elig. Category'].value_counts()"
   ]
  },
  {
   "cell_type": "code",
   "execution_count": null,
   "id": "02672e34",
   "metadata": {},
   "outputs": [],
   "source": [
    "# Outcome 3 counts\n",
    "EEC3['Init. Elig. Category'].value_counts()"
   ]
  },
  {
   "cell_type": "markdown",
   "id": "8a7d7710",
   "metadata": {},
   "source": [
    "#### grabbing info on the three categories of eligibility"
   ]
  },
  {
   "cell_type": "code",
   "execution_count": null,
   "id": "2b405759",
   "metadata": {},
   "outputs": [],
   "source": []
  },
  {
   "cell_type": "code",
   "execution_count": null,
   "id": "2b584423",
   "metadata": {},
   "outputs": [],
   "source": [
    "NA_EEC2 = EEC2['Init. Elig. Category'].isna()\n",
    "EEC2[NA_EEC2]\n",
    "# child ID 468726.0 (id should be an INT, not a float)"
   ]
  },
  {
   "cell_type": "markdown",
   "id": "1d3cfc46",
   "metadata": {},
   "source": [
    "<bold> Developmental Evaluation"
   ]
  },
  {
   "cell_type": "code",
   "execution_count": null,
   "id": "893b5901",
   "metadata": {},
   "outputs": [],
   "source": [
    "elig_cat_DE = EEC2[EEC2['Init. Elig. Category'] == 'Developmental Evaluation']"
   ]
  },
  {
   "cell_type": "code",
   "execution_count": null,
   "id": "6d9a62e3",
   "metadata": {},
   "outputs": [],
   "source": [
    "elig_cat_DE.shape"
   ]
  },
  {
   "cell_type": "markdown",
   "id": "a627e9b0",
   "metadata": {},
   "source": [
    "<bold> Diagnosed Condition"
   ]
  },
  {
   "cell_type": "code",
   "execution_count": null,
   "id": "d4b3e1d1",
   "metadata": {},
   "outputs": [],
   "source": [
    "elig_cat_DC = EEC2[EEC2['Init. Elig. Category'] == 'Diagnosed Condition']"
   ]
  },
  {
   "cell_type": "code",
   "execution_count": null,
   "id": "4aced6ea",
   "metadata": {},
   "outputs": [],
   "source": [
    "elig_cat_DC.shape"
   ]
  },
  {
   "cell_type": "markdown",
   "id": "bbedb58e",
   "metadata": {},
   "source": [
    "<bold> BOTH: Developmental Evaluation & Diagnosed Condition"
   ]
  },
  {
   "cell_type": "code",
   "execution_count": null,
   "id": "014d585a",
   "metadata": {},
   "outputs": [],
   "source": [
    "elig_cat_both = EEC2[EEC2['Init. Elig. Category'] == 'Diagnosed Condition, Developmental Evaluation']"
   ]
  },
  {
   "cell_type": "code",
   "execution_count": null,
   "id": "d0987283",
   "metadata": {
    "scrolled": true
   },
   "outputs": [],
   "source": [
    "elig_cat_both.shape"
   ]
  },
  {
   "cell_type": "markdown",
   "id": "e1a2a185",
   "metadata": {},
   "source": [
    "#### So...out of the 5595 kids for OC2 check <br>\n",
    "#### 4074 were categorized as Development Evaluation <br>\n",
    "#### 666 were categorized as Diagnosed Condition <br>\n",
    "#### 854 were categorized as both <br>\n",
    "#### this leaves 1 kid unaccounted for "
   ]
  },
  {
   "cell_type": "markdown",
   "id": "97d627d7",
   "metadata": {},
   "source": [
    "### ------------------------------------------------------------------"
   ]
  },
  {
   "cell_type": "markdown",
   "id": "975d3957",
   "metadata": {},
   "source": [
    "#### Box Plots"
   ]
  },
  {
   "cell_type": "markdown",
   "id": "1951e08f",
   "metadata": {},
   "source": [
    "Boxplots also give you a lot of information about a continuous variable in your dataset. The middle line through the box indicates the median value. The top and botton sides of the box are the 75th and 25th percentiles (3rd and 4th quartiles). The bars above and below the box (called whiskers) indicated the bounds for the upper and lower extremes of the distribution. Any points (values) beyond the whiskers are considered outliers"
   ]
  }
 ],
 "metadata": {
  "kernelspec": {
   "display_name": "Python 3 (ipykernel)",
   "language": "python",
   "name": "python3"
  },
  "language_info": {
   "codemirror_mode": {
    "name": "ipython",
    "version": 3
   },
   "file_extension": ".py",
   "mimetype": "text/x-python",
   "name": "python",
   "nbconvert_exporter": "python",
   "pygments_lexer": "ipython3",
   "version": "3.9.12"
  }
 },
 "nbformat": 4,
 "nbformat_minor": 5
}
