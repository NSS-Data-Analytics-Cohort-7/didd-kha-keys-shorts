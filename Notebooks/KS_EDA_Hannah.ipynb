{
 "cells": [
  {
   "cell_type": "markdown",
   "id": "cc09588a",
   "metadata": {},
   "source": [
    "## EDA for DIDD project \n",
    "#### importing essential packages"
   ]
  },
  {
   "cell_type": "code",
   "execution_count": null,
   "id": "0c2575ba",
   "metadata": {},
   "outputs": [],
   "source": [
    "import pandas as pd\n",
    "import numpy as np\n",
    "import matplotlib.pyplot as plt\n",
    "import seaborn as sns"
   ]
  },
  {
   "cell_type": "markdown",
   "id": "f6456bc9",
   "metadata": {},
   "source": [
    "#### the following below gets rid of needing plt.show()"
   ]
  },
  {
   "cell_type": "code",
   "execution_count": null,
   "id": "af029038",
   "metadata": {},
   "outputs": [],
   "source": [
    "%matplotlib inline"
   ]
  },
  {
   "cell_type": "markdown",
   "id": "6dc87671",
   "metadata": {},
   "source": [
    "#### importing the excel data with the specific sheets"
   ]
  },
  {
   "cell_type": "code",
   "execution_count": null,
   "id": "7a2efbec",
   "metadata": {},
   "outputs": [],
   "source": [
    "eco_df = pd.read_excel ('..\\Data\\TEIS-NSS Project Data 10-2022.xlsx', sheet_name='ECO with Exit21-22')    "
   ]
  },
  {
   "cell_type": "code",
   "execution_count": null,
   "id": "f730f65d",
   "metadata": {
    "scrolled": false
   },
   "outputs": [],
   "source": [
    "eco_df"
   ]
  },
  {
   "cell_type": "code",
   "execution_count": null,
   "id": "c2a32492",
   "metadata": {},
   "outputs": [],
   "source": [
    "eco_df_check = eco_df['OC2 Data Check'].isin([1.0])\n",
    "eco_df[eco_df_check]"
   ]
  },
  {
   "cell_type": "code",
   "execution_count": null,
   "id": "fd9ad87c",
   "metadata": {},
   "outputs": [],
   "source": [
    "elig_df = pd.read_excel ('..\\Data\\TEIS-NSS Project Data 10-2022.xlsx', sheet_name = 'Elig Timeline Rpt 2018-2022') "
   ]
  },
  {
   "cell_type": "code",
   "execution_count": null,
   "id": "d32f464d",
   "metadata": {
    "scrolled": true
   },
   "outputs": [],
   "source": [
    "elig_df.head()"
   ]
  },
  {
   "cell_type": "code",
   "execution_count": null,
   "id": "20a8c493",
   "metadata": {},
   "outputs": [],
   "source": [
    "eco_df.rename (columns = {'CHILD_ID':'Child ID'}, inplace=True )\n",
    "eco_df"
   ]
  },
  {
   "cell_type": "markdown",
   "id": "ccd4e3a6",
   "metadata": {},
   "source": [
    "## merging the data frames"
   ]
  },
  {
   "cell_type": "code",
   "execution_count": null,
   "id": "0071bf4d",
   "metadata": {},
   "outputs": [],
   "source": [
    "eco_elig_df = pd.merge(eco_df, elig_df, how=\"outer\", on= \"Child ID\")\n",
    "eco_elig_df"
   ]
  },
  {
   "cell_type": "code",
   "execution_count": null,
   "id": "47fa71a4",
   "metadata": {
    "scrolled": true
   },
   "outputs": [],
   "source": [
    "eco_elig_check = eco_elig_df['OC2 Data Check'].isin([1.0])\n",
    "EEC2 = pd.DataFrame(eco_elig_df[eco_elig_check])\n",
    "\n",
    "EEC2"
   ]
  },
  {
   "cell_type": "code",
   "execution_count": null,
   "id": "0969280d",
   "metadata": {
    "scrolled": true
   },
   "outputs": [],
   "source": [
    "EEC2.count(axis = 0)"
   ]
  },
  {
   "cell_type": "code",
   "execution_count": null,
   "id": "8ed20fea",
   "metadata": {},
   "outputs": [],
   "source": [
    "eco_elig_check = eco_elig_df['OC1 Data Check'].isin([1.0])\n",
    "EEC1 = pd.DataFrame(eco_elig_df[eco_elig_check])\n",
    "\n",
    "EEC1.shape"
   ]
  },
  {
   "cell_type": "code",
   "execution_count": null,
   "id": "712370b8",
   "metadata": {},
   "outputs": [],
   "source": [
    "eco_elig_check = eco_elig_df['OC3 Data Check'].isin([1.0])\n",
    "EEC3 = pd.DataFrame(eco_elig_df[eco_elig_check])\n",
    "\n",
    "EEC3.shape"
   ]
  },
  {
   "cell_type": "code",
   "execution_count": null,
   "id": "df36c205",
   "metadata": {},
   "outputs": [],
   "source": [
    "# Outcome 1 counts \n",
    "EEC1['Init. Elig. Category'].value_counts()"
   ]
  },
  {
   "cell_type": "code",
   "execution_count": null,
   "id": "b65ce672",
   "metadata": {},
   "outputs": [],
   "source": [
    "# Outcome 2 counts\n",
    "EEC2['Init. Elig. Category'].value_counts()"
   ]
  },
  {
   "cell_type": "code",
   "execution_count": null,
   "id": "c0ac0b70",
   "metadata": {
    "scrolled": true
   },
   "outputs": [],
   "source": [
    "# Outcome 3 counts\n",
    "EEC3['Init. Elig. Category'].value_counts() "
   ]
  },
  {
   "cell_type": "code",
   "execution_count": null,
   "id": "5781aa8f",
   "metadata": {
    "scrolled": true
   },
   "outputs": [],
   "source": [
    "#getting the percentages \n",
    "round((EEC3['Init. Elig. Category'].value_counts()/EEC3['Init. Elig. Category'].value_counts().sum())*100,2)"
   ]
  },
  {
   "cell_type": "markdown",
   "id": "8a7d7710",
   "metadata": {},
   "source": [
    "#### grabbing info on the three categories of eligibility"
   ]
  },
  {
   "cell_type": "code",
   "execution_count": null,
   "id": "705f291e",
   "metadata": {},
   "outputs": [],
   "source": [
    "NA_EEC2 = EEC2['Init. Elig. Category'].isna()\n",
    "EEC2[NA_EEC2]\n",
    "# child ID 468726.0 (id should be an INT, not a float)"
   ]
  },
  {
   "cell_type": "markdown",
   "id": "1d3cfc46",
   "metadata": {},
   "source": [
    "<bold> Developmental Evaluation"
   ]
  },
  {
   "cell_type": "code",
   "execution_count": null,
   "id": "893b5901",
   "metadata": {},
   "outputs": [],
   "source": [
    "elig_cat_DE = EEC2[EEC2['Init. Elig. Category'] == 'Developmental Evaluation']"
   ]
  },
  {
   "cell_type": "code",
   "execution_count": null,
   "id": "6d9a62e3",
   "metadata": {},
   "outputs": [],
   "source": [
    "elig_cat_DE.shape"
   ]
  },
  {
   "cell_type": "markdown",
   "id": "a627e9b0",
   "metadata": {},
   "source": [
    "<bold> Diagnosed Condition"
   ]
  },
  {
   "cell_type": "code",
   "execution_count": null,
   "id": "d4b3e1d1",
   "metadata": {},
   "outputs": [],
   "source": [
    "elig_cat_DC = EEC2[EEC2['Init. Elig. Category'] == 'Diagnosed Condition']"
   ]
  },
  {
   "cell_type": "code",
   "execution_count": null,
   "id": "4aced6ea",
   "metadata": {},
   "outputs": [],
   "source": [
    "elig_cat_DC.shape"
   ]
  },
  {
   "cell_type": "markdown",
   "id": "bbedb58e",
   "metadata": {},
   "source": [
    "<bold> BOTH: Developmental Evaluation & Diagnosed Condition"
   ]
  },
  {
   "cell_type": "code",
   "execution_count": null,
   "id": "014d585a",
   "metadata": {},
   "outputs": [],
   "source": [
    "elig_cat_both = EEC2[EEC2['Init. Elig. Category'] == 'Diagnosed Condition, Developmental Evaluation']"
   ]
  },
  {
   "cell_type": "code",
   "execution_count": null,
   "id": "d0987283",
   "metadata": {
    "scrolled": true
   },
   "outputs": [],
   "source": [
    "elig_cat_both.shape"
   ]
  },
  {
   "cell_type": "code",
   "execution_count": null,
   "id": "67c78a2c",
   "metadata": {},
   "outputs": [],
   "source": [
    "EEC1['Exit Reason_y'] = EEC1['Exit Reason_y'].str.strip('618 - ')\n",
    "EEC1.head()"
   ]
  },
  {
   "cell_type": "markdown",
   "id": "0cf7148b",
   "metadata": {},
   "source": [
    "#### So...out of the 5595 kids for OC2 check <br>\n",
    "#### 4074 were categorized as Development Evaluation <br>\n",
    "#### 666 were categorized as Diagnosed Condition <br>\n",
    "#### 854 were categorized as both <br>\n",
    "#### this leaves 1 kid unaccounted for "
   ]
  },
  {
   "cell_type": "markdown",
   "id": "92b822ef",
   "metadata": {},
   "source": [
    "# EXIT REASONS"
   ]
  },
  {
   "cell_type": "markdown",
   "id": "7f232627",
   "metadata": {},
   "source": [
    "#### Do exit reasons vary by eligibility category? "
   ]
  },
  {
   "cell_type": "code",
   "execution_count": null,
   "id": "ec4b2a7e",
   "metadata": {},
   "outputs": [],
   "source": [
    "EEC1['Exit Reason_y'].value_counts().sum()"
   ]
  },
  {
   "cell_type": "code",
   "execution_count": null,
   "id": "369aa35d",
   "metadata": {
    "scrolled": true
   },
   "outputs": [],
   "source": [
    "EEC1['Exit Reason_y'].value_counts()"
   ]
  },
  {
   "cell_type": "markdown",
   "id": "0042d679",
   "metadata": {},
   "source": [
    "### Developmental Evaluation"
   ]
  },
  {
   "cell_type": "code",
   "execution_count": null,
   "id": "ff4a8846",
   "metadata": {},
   "outputs": [],
   "source": [
    "DE = EEC1[EEC1['Init. Elig. Category'] == 'Developmental Evaluation']\n",
    "DE['Exit Reason_y'].value_counts()\n",
    "#Part B eligible, #1"
   ]
  },
  {
   "cell_type": "code",
   "execution_count": null,
   "id": "d47973a0",
   "metadata": {},
   "outputs": [],
   "source": [
    "DE['Exit Reason_y'].value_counts().sum()"
   ]
  },
  {
   "cell_type": "markdown",
   "id": "1925fae9",
   "metadata": {},
   "source": [
    "### Diagnosed Condition"
   ]
  },
  {
   "cell_type": "code",
   "execution_count": null,
   "id": "cd097946",
   "metadata": {
    "scrolled": true
   },
   "outputs": [],
   "source": [
    "DC = EEC1[EEC1['Init. Elig. Category'] == 'Diagnosed Condition']\n",
    "DC['Exit Reason_y'].value_counts()\n",
    "#Part B eligibility not determined, #1"
   ]
  },
  {
   "cell_type": "code",
   "execution_count": null,
   "id": "d2d7b80b",
   "metadata": {
    "scrolled": true
   },
   "outputs": [],
   "source": [
    "DC['Exit Reason_y'].value_counts().sum()"
   ]
  },
  {
   "cell_type": "markdown",
   "id": "4fe8937a",
   "metadata": {},
   "source": [
    "### BOTH: Developmental Evaluation & Diagnosed Condition"
   ]
  },
  {
   "cell_type": "code",
   "execution_count": null,
   "id": "aa5cd793",
   "metadata": {},
   "outputs": [],
   "source": [
    "DC_DE = EEC1[EEC1['Init. Elig. Category'] == 'Diagnosed Condition, Developmental Evaluation']\n",
    "DC_DE['Exit Reason_y'].value_counts()\n",
    "# Part B eligible, #1\n",
    "#Parent withdraw was #3 for all "
   ]
  },
  {
   "cell_type": "code",
   "execution_count": null,
   "id": "b19837ef",
   "metadata": {},
   "outputs": [],
   "source": [
    "DC_DE['Exit Reason_y'].value_counts().sum()"
   ]
  },
  {
   "cell_type": "markdown",
   "id": "a3f85755",
   "metadata": {},
   "source": [
    "#### DE - 4058 <br>\n",
    "#### DC - 664 <br>\n",
    "#### DC_DE - 849 <br>"
   ]
  },
  {
   "cell_type": "code",
   "execution_count": null,
   "id": "00e64f6b",
   "metadata": {},
   "outputs": [],
   "source": [
    "num = [4058, 664, 849]\n",
    "sum(num)\n",
    "#there are 23 nulls kid so if you count those 5594 "
   ]
  },
  {
   "cell_type": "markdown",
   "id": "ef5740ff",
   "metadata": {},
   "source": [
    "To answer the first part, I think the exit reasons do not vary extremely from one eligibility category to the next. There are some variations but slight."
   ]
  },
  {
   "cell_type": "markdown",
   "id": "cc62878b",
   "metadata": {},
   "source": [
    "#### Do more children in one eligibility category age out compared to leaving for other reasons?"
   ]
  },
  {
   "cell_type": "markdown",
   "id": "a3ef8ce1",
   "metadata": {},
   "source": [
    "They all typically aged out....looking at Part B eligible (and eligibility not determined)"
   ]
  },
  {
   "cell_type": "markdown",
   "id": "c61cbfe1",
   "metadata": {},
   "source": [
    "### ------------------------------------------------------------------"
   ]
  },
  {
   "cell_type": "markdown",
   "id": "d1866b72",
   "metadata": {},
   "source": [
    "#### Box Plots"
   ]
  },
  {
   "cell_type": "markdown",
   "id": "214dc29c",
   "metadata": {},
   "source": [
    "Boxplots also give you a lot of information about a continuous variable in your dataset. The middle line through the box indicates the median value. The top and botton sides of the box are the 75th and 25th percentiles (3rd and 4th quartiles). The bars above and below the box (called whiskers) indicated the bounds for the upper and lower extremes of the distribution. Any points (values) beyond the whiskers are considered outliers"
   ]
  }
 ],
 "metadata": {
  "kernelspec": {
   "display_name": "Python 3 (ipykernel)",
   "language": "python",
   "name": "python3"
  },
  "language_info": {
   "codemirror_mode": {
    "name": "ipython",
    "version": 3
   },
   "file_extension": ".py",
   "mimetype": "text/x-python",
   "name": "python",
   "nbconvert_exporter": "python",
   "pygments_lexer": "ipython3",
   "version": "3.9.12"
  }
 },
 "nbformat": 4,
 "nbformat_minor": 5
}
