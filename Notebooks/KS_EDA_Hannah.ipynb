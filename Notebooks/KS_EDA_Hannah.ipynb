{
 "cells": [
  {
   "cell_type": "markdown",
   "id": "cc09588a",
   "metadata": {},
   "source": [
    "## EDA for DIDD project \n",
    "#### importing essential packages"
   ]
  },
  {
   "cell_type": "code",
   "execution_count": null,
   "id": "0c2575ba",
   "metadata": {},
   "outputs": [],
   "source": [
    "import pandas as pd\n",
    "import numpy as np\n",
    "import matplotlib.pyplot as plt\n",
    "import seaborn as sns"
   ]
  },
  {
   "cell_type": "markdown",
   "id": "f6456bc9",
   "metadata": {},
   "source": [
    "#### the following below gets rid of needing plt.show()"
   ]
  },
  {
   "cell_type": "code",
   "execution_count": null,
   "id": "af029038",
   "metadata": {},
   "outputs": [],
   "source": [
    "%matplotlib inline"
   ]
  },
  {
   "cell_type": "markdown",
   "id": "6dc87671",
   "metadata": {},
   "source": [
    "#### importing the excel data with the specific sheets"
   ]
  },
  {
   "cell_type": "code",
   "execution_count": null,
   "id": "7a2efbec",
   "metadata": {},
   "outputs": [],
   "source": [
    "eco_df = pd.read_excel ('..\\Data\\TEIS-NSS Project Data 10-2022.xlsx', sheet_name='ECO with Exit21-22')    "
   ]
  },
  {
   "cell_type": "code",
   "execution_count": null,
   "id": "f730f65d",
   "metadata": {},
   "outputs": [],
   "source": [
    "eco_df.head()"
   ]
  },
  {
   "cell_type": "code",
   "execution_count": null,
   "id": "fd9ad87c",
   "metadata": {},
   "outputs": [],
   "source": [
    "elig_df = pd.read_excel ('..\\Data\\TEIS-NSS Project Data 10-2022.xlsx', sheet_name = 'Elig Timeline Rpt 2018-2022') "
   ]
  },
  {
   "cell_type": "code",
   "execution_count": null,
   "id": "d32f464d",
   "metadata": {
    "scrolled": true
   },
   "outputs": [],
   "source": [
    "elig_df.head()"
   ]
  },
  {
   "cell_type": "code",
   "execution_count": null,
   "id": "20a8c493",
   "metadata": {},
   "outputs": [],
   "source": [
    "eco_df.rename (columns = {'CHILD_ID':'Child ID'}, inplace=True )\n",
    "eco_df"
   ]
  },
  {
   "cell_type": "markdown",
   "id": "8a7d7710",
   "metadata": {},
   "source": [
    "#### grabbing info on the three categories of eligibility"
   ]
  },
  {
   "cell_type": "markdown",
   "id": "1d3cfc46",
   "metadata": {},
   "source": [
    "<bold> Developmental Evaluation"
   ]
  },
  {
   "cell_type": "code",
   "execution_count": null,
   "id": "893b5901",
   "metadata": {},
   "outputs": [],
   "source": [
    "elig_cat_DE = elig_df[elig_df['Init. Elig. Category'] == 'Developmental Evaluation']"
   ]
  },
  {
   "cell_type": "code",
   "execution_count": null,
   "id": "6d9a62e3",
   "metadata": {},
   "outputs": [],
   "source": [
    "elig_cat_DE.shape"
   ]
  },
  {
   "cell_type": "markdown",
   "id": "a627e9b0",
   "metadata": {},
   "source": [
    "<bold> Diagnosed Condition"
   ]
  },
  {
   "cell_type": "code",
   "execution_count": null,
   "id": "d4b3e1d1",
   "metadata": {},
   "outputs": [],
   "source": [
    "elig_cat_DC = elig_df[elig_df['Init. Elig. Category'] == 'Diagnosed Condition']"
   ]
  },
  {
   "cell_type": "code",
   "execution_count": null,
   "id": "4aced6ea",
   "metadata": {},
   "outputs": [],
   "source": [
    "elig_cat_DC.shape"
   ]
  },
  {
   "cell_type": "markdown",
   "id": "bbedb58e",
   "metadata": {},
   "source": [
    "<bold> BOTH: Developmental Evaluation & Diagnosed Condition"
   ]
  },
  {
   "cell_type": "code",
   "execution_count": null,
   "id": "014d585a",
   "metadata": {},
   "outputs": [],
   "source": [
    "elig_cat_both = elig_df[elig_df['Init. Elig. Category'] == 'Diagnosed Condition, Developmental Evaluation']"
   ]
  },
  {
   "cell_type": "code",
   "execution_count": null,
   "id": "d0987283",
   "metadata": {},
   "outputs": [],
   "source": [
    "elig_cat_both.shape"
   ]
  }
 ],
 "metadata": {
  "kernelspec": {
   "display_name": "Python 3 (ipykernel)",
   "language": "python",
   "name": "python3"
  },
  "language_info": {
   "codemirror_mode": {
    "name": "ipython",
    "version": 3
   },
   "file_extension": ".py",
   "mimetype": "text/x-python",
   "name": "python",
   "nbconvert_exporter": "python",
   "pygments_lexer": "ipython3",
   "version": "3.9.12"
  }
 },
 "nbformat": 4,
 "nbformat_minor": 5
}
