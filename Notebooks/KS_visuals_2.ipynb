{
 "cells": [
  {
   "cell_type": "code",
   "execution_count": null,
   "id": "0a963f88",
   "metadata": {},
   "outputs": [],
   "source": [
    "import pandas as pd\n",
    "import numpy as np\n",
    "import matplotlib.pyplot as plt\n",
    "import seaborn as sns\n",
    "import plotly.express as px\n",
    "%matplotlib inline\n",
    "from colorama import Fore, Style"
   ]
  },
  {
   "cell_type": "code",
   "execution_count": null,
   "id": "94dd26f9",
   "metadata": {},
   "outputs": [],
   "source": [
    "elig_df = pd.read_excel ('..\\Data\\TEIS-NSS Project Data 10-2022.xlsx', sheet_name = 'Elig Timeline Rpt 2018-2022') "
   ]
  },
  {
   "cell_type": "code",
   "execution_count": null,
   "id": "3d02811f",
   "metadata": {},
   "outputs": [],
   "source": [
    "elig_df['Exit Reason'].value_counts()"
   ]
  },
  {
   "cell_type": "code",
   "execution_count": null,
   "id": "1f36bc32",
   "metadata": {},
   "outputs": [],
   "source": [
    "DE = elig_df[elig_df['Init. Elig. Category'] == 'Developmental Evaluation']\n",
    "DE_count = pd.DataFrame(DE['Exit Reason'].value_counts())\n",
    "\n",
    "DC = elig_df[elig_df['Init. Elig. Category'] == 'Diagnosed Condition']\n",
    "DC_count = pd.DataFrame(DC['Exit Reason'].value_counts())\n",
    "\n",
    "DC_DE = elig_df[elig_df['Init. Elig. Category'] == 'Diagnosed Condition, Developmental Evaluation']\n",
    "DC_DE_count = pd.DataFrame(DC_DE['Exit Reason'].value_counts())"
   ]
  },
  {
   "cell_type": "code",
   "execution_count": null,
   "id": "e38ad4b5",
   "metadata": {},
   "outputs": [],
   "source": [
    "null = elig_df['Exit Reason'].isnull().sum()\n",
    "total_rows = elig_df['Exit Reason'].value_counts().sum()\n",
    "DEcount = DE['Exit Reason'].value_counts().sum()\n",
    "DCcount = DC['Exit Reason'].value_counts().sum()\n",
    "DCDEcount = DC_DE['Exit Reason'].value_counts().sum()"
   ]
  },
  {
   "cell_type": "code",
   "execution_count": null,
   "id": "ab6f6eed",
   "metadata": {},
   "outputs": [],
   "source": [
    "print('\\33[1mDevelopment Evaluation Count: \\33[m' + str(DEcount))\n",
    "print('\\33[1mDiagnosed Condition Count: \\33[m' + str(DCcount))\n",
    "print('\\33[1mBoth (DE & DC) Count: \\33[m' + str(DCDEcount))\n",
    "print('\\33[1mNull Count: \\33[m' + str(null))\n",
    "num = [DEcount, DCcount, DCDEcount, null]\n",
    "print('\\33[1mTotal Count: \\33[m' + str(sum(num)))\n",
    "print('\\33[1mTotal Row Count: \\33[m' + str(total_rows))\n",
    "print(Fore.RED + '\\33[1mDifference: \\33[m' + str(total_rows - sum(num)))"
   ]
  },
  {
   "cell_type": "code",
   "execution_count": null,
   "id": "ee2aa6ad",
   "metadata": {},
   "outputs": [],
   "source": [
    "DE_count = pd.DataFrame(DE_count.reset_index())\n",
    "DE_count.rename (columns = {'index':'Exit Reason: Description','Exit Reason':'Exit Reason: Count'}, inplace=True)\n",
    "DE_count['Exit Reason: Description'] = DE_count['Exit Reason: Description'].str.strip('618 - ')\n",
    "\n",
    "DC_count = pd.DataFrame(DC_count.reset_index())\n",
    "DC_count.rename (columns = {'index':'Exit Reason: Description','Exit Reason':'Exit Reason: Count'}, inplace=True)\n",
    "DC_count['Exit Reason: Description'] = DC_count['Exit Reason: Description'].str.strip('618 - ')\n",
    "\n",
    "DC_DE_count = pd.DataFrame(DC_DE_count.reset_index())\n",
    "DC_DE_count.rename (columns = {'index':'Exit Reason: Description','Exit Reason':'Exit Reason: Count'}, inplace=True)\n",
    "DC_DE_count['Exit Reason: Description'] = DC_DE_count['Exit Reason: Description'].str.strip('618 - ')"
   ]
  },
  {
   "cell_type": "code",
   "execution_count": null,
   "id": "ed13eebf",
   "metadata": {},
   "outputs": [],
   "source": [
    "merged = pd.merge(DC_DE_count, DC_count, how = \"outer\", on = 'Exit Reason: Description')\n",
    "all_cat = pd.merge(DE_count, merged, how = \"outer\", on = 'Exit Reason: Description')\n",
    "all_cat.rename(columns = {'Exit Reason: Description':'Exit Reason','Exit Reason: Count':'Development Evaluation','Exit Reason: Count_x':'Both', 'Exit Reason: Count_y': 'Diagnosed Condition'}, inplace=True)"
   ]
  },
  {
   "cell_type": "code",
   "execution_count": null,
   "id": "b2eb72d1",
   "metadata": {},
   "outputs": [],
   "source": [
    "all_cat = all_cat.fillna(0)\n",
    "all_cat['Both'] = all_cat['Both'].astype(int)\n",
    "all_cat['Diagnosed Condition'] = all_cat['Diagnosed Condition'].astype(int)\n",
    "all_cat.info()"
   ]
  },
  {
   "cell_type": "code",
   "execution_count": null,
   "id": "3e5a1564",
   "metadata": {},
   "outputs": [],
   "source": [
    "#getting the percentage of each exit reason compared to the total for the entire eligibility category \n",
    "all_cat['Development Evaluation'] = round((all_cat['Development Evaluation']/all_cat['Development Evaluation'].sum())*100,2)\n",
    "all_cat['Both'] = round((all_cat['Both']/all_cat['Both'].sum())*100,2)\n",
    "all_cat['Diagnosed Condition'] = round((all_cat['Diagnosed Condition']/all_cat['Diagnosed Condition'].sum())*100,2)\n",
    "\n",
    "\n",
    "all_cat"
   ]
  },
  {
   "cell_type": "code",
   "execution_count": null,
   "id": "c31c5ba0",
   "metadata": {},
   "outputs": [],
   "source": [
    "# print(\"\\nModified Stlying DataFrame:\")\n",
    "# all_cat.style.highlight_max(['Development Evaluation', 'Both', 'Diagnosed Condition'])"
   ]
  },
  {
   "cell_type": "code",
   "execution_count": null,
   "id": "83b687f4",
   "metadata": {},
   "outputs": [],
   "source": [
    "cm = sns.light_palette(\"green\", as_cmap=True)\n",
    "\n",
    "print(\"\\nModified Stlying DataFrame:\")\n",
    "all_cat.style.background_gradient(cmap=cm).set_precision(2)"
   ]
  },
  {
   "cell_type": "code",
   "execution_count": null,
   "id": "de3b93ba",
   "metadata": {},
   "outputs": [],
   "source": [
    "# ac_percent = all_cat\n",
    "# #putting the % sign at the end for clearer representation\n",
    "# ac_percent['Development Evaluation'] = ac_percent['Development Evaluation'].astype(str) + '%'\n",
    "# ac_percent['Both'] = ac_percent['Both'].astype(str) + '%'\n",
    "# ac_percent['Diagnosed Condition'] = ac_percent['Diagnosed Condition'].astype(str) + '%'"
   ]
  },
  {
   "cell_type": "code",
   "execution_count": null,
   "id": "cf01e342",
   "metadata": {},
   "outputs": [],
   "source": [
    "# print(\"Original DataFrame:\\n\")\n",
    "# print(ac_percent)\n",
    "# print(\"\\nModified Stlying DataFrame:\")\n",
    "# ac_percent.style.set_properties(**{'background-color': 'navy',\n",
    "#                            'color': 'white'})"
   ]
  },
  {
   "cell_type": "code",
   "execution_count": null,
   "id": "22a3bde0",
   "metadata": {},
   "outputs": [],
   "source": []
  }
 ],
 "metadata": {
  "kernelspec": {
   "display_name": "Python 3 (ipykernel)",
   "language": "python",
   "name": "python3"
  },
  "language_info": {
   "codemirror_mode": {
    "name": "ipython",
    "version": 3
   },
   "file_extension": ".py",
   "mimetype": "text/x-python",
   "name": "python",
   "nbconvert_exporter": "python",
   "pygments_lexer": "ipython3",
   "version": "3.9.12"
  }
 },
 "nbformat": 4,
 "nbformat_minor": 5
}
