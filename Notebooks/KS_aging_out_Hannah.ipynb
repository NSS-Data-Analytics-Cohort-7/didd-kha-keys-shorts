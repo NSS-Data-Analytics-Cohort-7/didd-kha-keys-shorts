{
 "cells": [
  {
   "cell_type": "code",
   "execution_count": null,
   "id": "5035416c",
   "metadata": {},
   "outputs": [],
   "source": [
    "import pandas as pd\n",
    "import numpy as np\n",
    "import matplotlib.pyplot as plt\n",
    "import seaborn as sns\n",
    "import plotly.express as px\n",
    "%matplotlib inline\n",
    "from colorama import Fore, Style"
   ]
  },
  {
   "cell_type": "code",
   "execution_count": null,
   "id": "3a77e5a4",
   "metadata": {},
   "outputs": [],
   "source": [
    "elig_df = pd.read_excel ('..\\Data\\TEIS-NSS Project Data 10-2022.xlsx', sheet_name = 'Elig Timeline Rpt 2018-2022') "
   ]
  },
  {
   "cell_type": "code",
   "execution_count": null,
   "id": "c08eff60",
   "metadata": {},
   "outputs": [],
   "source": [
    "elig_df['Exit Reason'].value_counts()"
   ]
  },
  {
   "cell_type": "code",
   "execution_count": null,
   "id": "30dddce0",
   "metadata": {},
   "outputs": [],
   "source": [
    "DE = elig_df[elig_df['Init. Elig. Category'] == 'Developmental Evaluation']\n",
    "DE_count = pd.DataFrame(DE['Exit Reason'].value_counts())\n",
    "\n",
    "DC = elig_df[elig_df['Init. Elig. Category'] == 'Diagnosed Condition']\n",
    "DC_count = pd.DataFrame(DC['Exit Reason'].value_counts())\n",
    "\n",
    "DC_DE = elig_df[elig_df['Init. Elig. Category'] == 'Diagnosed Condition, Developmental Evaluation']\n",
    "DC_DE_count = pd.DataFrame(DC_DE['Exit Reason'].value_counts())"
   ]
  },
  {
   "cell_type": "code",
   "execution_count": null,
   "id": "8e3f3364",
   "metadata": {},
   "outputs": [],
   "source": [
    "null = elig_df['Exit Reason'].isnull().sum()\n",
    "total_rows = elig_df['Exit Reason'].value_counts().sum()\n",
    "DEcount = DE['Exit Reason'].value_counts().sum()\n",
    "DCcount = DC['Exit Reason'].value_counts().sum()\n",
    "DCDEcount = DC_DE['Exit Reason'].value_counts().sum()"
   ]
  },
  {
   "cell_type": "code",
   "execution_count": null,
   "id": "30c52a50",
   "metadata": {},
   "outputs": [],
   "source": [
    "print('\\33[1mDevelopment Evaluation Count: \\33[m' + str(DEcount))\n",
    "print('\\33[1mDiagnosed Condition Count: \\33[m' + str(DCcount))\n",
    "print('\\33[1mBoth (DE & DC) Count: \\33[m' + str(DCDEcount))\n",
    "print('\\33[1mNull Count: \\33[m' + str(null))\n",
    "num = [DEcount, DCcount, DCDEcount, null]\n",
    "print('\\33[1mTotal Count: \\33[m' + str(sum(num)))\n",
    "print('\\33[1mTotal Row Count: \\33[m' + str(total_rows))\n",
    "print(Fore.RED + '\\33[1mDifference: \\33[m' + str(total_rows - sum(num)))"
   ]
  },
  {
   "cell_type": "code",
   "execution_count": null,
   "id": "5e1d7d21",
   "metadata": {},
   "outputs": [],
   "source": [
    "DE_count = pd.DataFrame(DE_count.reset_index())\n",
    "DE_count.rename (columns = {'index':'Exit Reason: Description','Exit Reason':'Exit Reason: Count'}, inplace=True)\n",
    "DE_count['Exit Reason: Description'] = DE_count['Exit Reason: Description'].str.strip('618 - ')\n",
    "\n",
    "DC_count = pd.DataFrame(DC_count.reset_index())\n",
    "DC_count.rename (columns = {'index':'Exit Reason: Description','Exit Reason':'Exit Reason: Count'}, inplace=True)\n",
    "DC_count['Exit Reason: Description'] = DC_count['Exit Reason: Description'].str.strip('618 - ')\n",
    "\n",
    "DC_DE_count = pd.DataFrame(DC_DE_count.reset_index())\n",
    "DC_DE_count.rename (columns = {'index':'Exit Reason: Description','Exit Reason':'Exit Reason: Count'}, inplace=True)\n",
    "DC_DE_count['Exit Reason: Description'] = DC_DE_count['Exit Reason: Description'].str.strip('618 - ')"
   ]
  },
  {
   "cell_type": "code",
   "execution_count": null,
   "id": "f058dc45",
   "metadata": {},
   "outputs": [],
   "source": [
    "merged = pd.merge(DC_DE_count, DC_count, how = \"outer\", on = 'Exit Reason: Description')\n",
    "all_cat = pd.merge(DE_count, merged, how = \"outer\", on = 'Exit Reason: Description')\n",
    "all_cat.rename(columns = {'Exit Reason: Description':'Exit Reason','Exit Reason: Count':'Development Evaluation','Exit Reason: Count_x':'Both', 'Exit Reason: Count_y': 'Diagnosed Condition'}, inplace=True)"
   ]
  },
  {
   "cell_type": "code",
   "execution_count": null,
   "id": "8ede22da",
   "metadata": {
    "scrolled": true
   },
   "outputs": [],
   "source": [
    "all_cat = all_cat.fillna(0)\n",
    "all_cat['Both'] = all_cat['Both'].astype(int)\n",
    "all_cat['Diagnosed Condition'] = all_cat['Diagnosed Condition'].astype(int)\n",
    "all_cat = pd.DataFrame(all_cat)\n",
    "all_cat.info()"
   ]
  },
  {
   "cell_type": "code",
   "execution_count": null,
   "id": "4ab16d48",
   "metadata": {
    "scrolled": true
   },
   "outputs": [],
   "source": [
    "#all_cat['Exit Reason'] = all_cat['Exit Reason'].str.strip(' – Exit with no referrals' + 'Not eligible for' + 'eligibility not determined' + '- Exit with referral to other program') \n",
    "all_cat.describe()"
   ]
  },
  {
   "cell_type": "code",
   "execution_count": null,
   "id": "aa69162a",
   "metadata": {},
   "outputs": [],
   "source": [
    "all_cat['Exit Reason'] = all_cat['Exit Reason'].replace('Part B eligibility not determined', 'Aged Out')\n",
    "all_cat['Exit Reason'] = all_cat['Exit Reason'].replace('Part B eligible', 'Aged Out')\n",
    "all_cat['Exit Reason'] = all_cat['Exit Reason'].replace('Not eligible for Part B – Exit with no referrals', 'Aged Out')\n",
    "all_cat['Exit Reason'] = all_cat['Exit Reason'].replace('Not eligible for Part B – Exit with referral to other programs', 'Aged Out')"
   ]
  },
  {
   "cell_type": "code",
   "execution_count": null,
   "id": "c41361f6",
   "metadata": {
    "scrolled": true
   },
   "outputs": [],
   "source": [
    "all_cat"
   ]
  },
  {
   "cell_type": "code",
   "execution_count": null,
   "id": "fb0a3f0a",
   "metadata": {},
   "outputs": [],
   "source": [
    "all_cat['Exit Reason'] = all_cat['Exit Reason'].replace('Parent withdraw', 'Other')\n",
    "all_cat['Exit Reason'] = all_cat['Exit Reason'].replace('Attempts to contact unsuccessful', 'Other')\n",
    "all_cat['Exit Reason'] = all_cat['Exit Reason'].replace('Parent decline', 'Other')\n",
    "all_cat['Exit Reason'] = all_cat['Exit Reason'].replace('Unable to contact', 'Other')\n",
    "all_cat['Exit Reason'] = all_cat['Exit Reason'].replace('Moved out of state', 'Other')\n",
    "all_cat['Exit Reason'] = all_cat['Exit Reason'].replace('No meeting occurred', 'Other')\n",
    "all_cat['Exit Reason'] = all_cat['Exit Reason'].replace('Completion of IFSP/ no longer requires services', 'Other')\n",
    "all_cat['Exit Reason'] = all_cat['Exit Reason'].replace('Deceased', 'Other')\n",
    "all_cat['Exit Reason'] = all_cat['Exit Reason'].replace('Referral less than 45 days', 'Other')\n",
    "all_cat['Exit Reason'] = all_cat['Exit Reason'].replace('Screening – No action is required', 'Other')"
   ]
  },
  {
   "cell_type": "code",
   "execution_count": null,
   "id": "35797733",
   "metadata": {},
   "outputs": [],
   "source": [
    "group = all_cat.groupby(by='Exit Reason').sum()"
   ]
  },
  {
   "cell_type": "code",
   "execution_count": null,
   "id": "5d5e2a67",
   "metadata": {
    "scrolled": false
   },
   "outputs": [],
   "source": [
    "df_group = pd.DataFrame(group.reset_index())\n",
    "df_group"
   ]
  },
  {
   "cell_type": "code",
   "execution_count": null,
   "id": "e3732788",
   "metadata": {},
   "outputs": [],
   "source": [
    "df_group.describe()"
   ]
  },
  {
   "cell_type": "code",
   "execution_count": null,
   "id": "9c25ce66",
   "metadata": {},
   "outputs": [],
   "source": [
    "#Development Evaluation\n",
    "df_group.groupby(['Exit Reason']).sum().plot(kind='pie', y='Development Evaluation', labels = ('',''), colors = ('gold','lemonchiffon'), fontsize = 15, autopct='%1.1f%%')\n",
    "labels = ['Aged Out', 'Other']\n",
    "plt.legend(labels, bbox_to_anchor=(.68,-.01),loc = 'lower right', fontsize=15, bbox_transform=plt.gcf().transFigure)\n",
    "plt.title(\"Development Evaluation\", fontsize = 15, fontweight = 'bold')\n",
    "plt.ylabel('')\n",
    "\n",
    "#Both\n",
    "df_group.groupby(['Exit Reason']).sum().plot(kind='pie', y='Both', labels = ('',''), colors = ('orange','moccasin'), fontsize = 15, autopct='%1.1f%%')\n",
    "labels = ['Aged Out', 'Other']\n",
    "plt.legend(labels, bbox_to_anchor=(.68,-.01),loc = 'lower right', fontsize=15, bbox_transform=plt.gcf().transFigure)\n",
    "plt.title(\"Both\", fontsize = 15, fontweight = 'bold')\n",
    "plt.ylabel('')\n",
    "\n",
    "#Diagnosed Condition \n",
    "df_group.groupby(['Exit Reason']).sum().plot(kind='pie', y='Diagnosed Condition', labels = ('',''), colors = ('indianred','mistyrose'),fontsize = 15, autopct='%1.1f%%')\n",
    "labels = ['Aged Out', 'Other']\n",
    "plt.legend(labels, bbox_to_anchor=(.68,-.01),loc = 'lower right', fontsize=15, bbox_transform=plt.gcf().transFigure)\n",
    "plt.title(\"Diagnosed Condition\", fontsize = 15, fontweight = 'bold')\n",
    "plt.ylabel('');"
   ]
  }
 ],
 "metadata": {
  "kernelspec": {
   "display_name": "Python 3 (ipykernel)",
   "language": "python",
   "name": "python3"
  },
  "language_info": {
   "codemirror_mode": {
    "name": "ipython",
    "version": 3
   },
   "file_extension": ".py",
   "mimetype": "text/x-python",
   "name": "python",
   "nbconvert_exporter": "python",
   "pygments_lexer": "ipython3",
   "version": "3.9.12"
  }
 },
 "nbformat": 4,
 "nbformat_minor": 5
}
