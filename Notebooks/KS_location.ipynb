{
 "cells": [
  {
   "cell_type": "code",
   "execution_count": null,
   "id": "44d56aa6",
   "metadata": {},
   "outputs": [],
   "source": [
    "import pandas as pd\n",
    "import numpy as np\n",
    "import matplotlib.pyplot as plt\n",
    "import seaborn as sns\n",
    "import plotly.express as px\n",
    "%matplotlib inline\n",
    "from colorama import Fore, Style"
   ]
  },
  {
   "cell_type": "code",
   "execution_count": null,
   "id": "0f77161f",
   "metadata": {},
   "outputs": [],
   "source": [
    "elig_df = pd.read_excel ('..\\Data\\TEIS-NSS Project Data 10-2022.xlsx', sheet_name = 'Elig Timeline Rpt 2018-2022') "
   ]
  },
  {
   "cell_type": "code",
   "execution_count": null,
   "id": "11f23799",
   "metadata": {},
   "outputs": [],
   "source": [
    "elig_df.head()"
   ]
  },
  {
   "cell_type": "code",
   "execution_count": null,
   "id": "a20401c5",
   "metadata": {},
   "outputs": [],
   "source": [
    "elig_df_small = elig_df[elig_df.columns[elig_df.columns.isin(['District', 'Init. Elig. Category', 'Exit Date', 'Exit Reason'])]]"
   ]
  },
  {
   "cell_type": "code",
   "execution_count": null,
   "id": "8fbc9ef6",
   "metadata": {
    "scrolled": true
   },
   "outputs": [],
   "source": [
    "elig_df_small['Exit Reason'] = elig_df_small['Exit Reason'].str.strip('618 - ')"
   ]
  },
  {
   "cell_type": "code",
   "execution_count": null,
   "id": "d8794a75",
   "metadata": {
    "scrolled": false
   },
   "outputs": [],
   "source": [
    "elig_df_small['District'].value_counts()"
   ]
  },
  {
   "cell_type": "code",
   "execution_count": null,
   "id": "c027e6a3",
   "metadata": {},
   "outputs": [],
   "source": [
    "DE = elig_df_small[elig_df_small['Init. Elig. Category'] == 'Developmental Evaluation']\n",
    "DE_count = pd.DataFrame(DE['District'].value_counts()).reset_index()\n",
    "DE_count = DE_count.rename(columns = {'index':'District', 'District':'Developmental Evaluation'})"
   ]
  },
  {
   "cell_type": "code",
   "execution_count": null,
   "id": "4ce94d0e",
   "metadata": {},
   "outputs": [],
   "source": [
    "DC_DE = elig_df_small[elig_df_small['Init. Elig. Category'] == 'Diagnosed Condition, Developmental Evaluation']\n",
    "DCDE_count = pd.DataFrame(DC_DE['District'].value_counts()).reset_index()\n",
    "DCDE_count = DCDE_count.rename(columns = {'index':'District', 'District':'Both'})"
   ]
  },
  {
   "cell_type": "code",
   "execution_count": null,
   "id": "d98ca3d9",
   "metadata": {},
   "outputs": [],
   "source": [
    "DC = elig_df_small[elig_df_small['Init. Elig. Category'] == 'Diagnosed Condition']\n",
    "DC_count = pd.DataFrame(DC['District'].value_counts()).reset_index()\n",
    "DC_count = DC_count.rename(columns = {'index':'District', 'District':'Diagnosed Condition'})"
   ]
  },
  {
   "cell_type": "code",
   "execution_count": null,
   "id": "ea1c1943",
   "metadata": {
    "scrolled": true
   },
   "outputs": [],
   "source": [
    "merged = pd.merge(DCDE_count, DC_count, how = \"outer\", on = 'District')\n",
    "all_cat = pd.merge(DE_count, merged, how = \"outer\", on = 'District')\n",
    "all_cat"
   ]
  },
  {
   "cell_type": "code",
   "execution_count": null,
   "id": "4f0b520e",
   "metadata": {},
   "outputs": [],
   "source": [
    "#all_cat['Overall'] = all_cat['Developmental Evaluation'] + all_cat['Both'] + all_cat['Diagnosed Condition']"
   ]
  },
  {
   "cell_type": "code",
   "execution_count": null,
   "id": "9bb4ad88",
   "metadata": {},
   "outputs": [],
   "source": [
    "all_cat['Developmental Evaluation'] = round(all_cat['Developmental Evaluation']/(all_cat['Developmental Evaluation'].sum() + all_cat['Both'].sum() + all_cat['Diagnosed Condition'].sum())*100,2)\n",
    "\n",
    "all_cat['Both'] = round(all_cat['Both']/(all_cat['Developmental Evaluation'].sum() + all_cat['Both'].sum() + all_cat['Diagnosed Condition'].sum())*100,2)\n",
    "\n",
    "all_cat['Diagnosed Condition'] = round(all_cat['Diagnosed Condition']/(all_cat['Developmental Evaluation'].sum() + all_cat['Both'].sum() + all_cat['Diagnosed Condition'].sum())*100,2)"
   ]
  },
  {
   "cell_type": "code",
   "execution_count": null,
   "id": "8a2cc17b",
   "metadata": {},
   "outputs": [],
   "source": [
    "all_cat"
   ]
  },
  {
   "cell_type": "code",
   "execution_count": null,
   "id": "e05f46cf",
   "metadata": {},
   "outputs": [],
   "source": [
    "all_cat.set_index('District').plot(kind='bar', stacked = True, color = ('gold','orange','indianred'))\n",
    "plt.legend(bbox_to_anchor=(1.52,.61),loc = 'lower right', fontsize=15, bbox_transform=plt.gcf().transFigure)\n",
    "plt.title('District Per Eligibility Category', fontsize = 14, fontweight = 'bold')\n",
    "plt.xlabel('Districts', fontsize = 15)\n",
    "plt.ylabel('Percentages', fontsize = 15)\n",
    "\n",
    "tick_val = [0.0, 5.0, 10.0, 15.0, 20.0]\n",
    "tick_lab = ['0', '5%', '10%','15%','20%']\n",
    "plt.yticks(tick_val,tick_lab);"
   ]
  }
 ],
 "metadata": {
  "kernelspec": {
   "display_name": "Python 3 (ipykernel)",
   "language": "python",
   "name": "python3"
  },
  "language_info": {
   "codemirror_mode": {
    "name": "ipython",
    "version": 3
   },
   "file_extension": ".py",
   "mimetype": "text/x-python",
   "name": "python",
   "nbconvert_exporter": "python",
   "pygments_lexer": "ipython3",
   "version": "3.9.12"
  }
 },
 "nbformat": 4,
 "nbformat_minor": 5
}
