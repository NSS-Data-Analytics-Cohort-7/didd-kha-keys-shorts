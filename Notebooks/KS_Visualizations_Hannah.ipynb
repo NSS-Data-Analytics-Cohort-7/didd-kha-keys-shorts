{
 "cells": [
  {
   "cell_type": "code",
   "execution_count": 1,
   "id": "a9bb109c",
   "metadata": {},
   "outputs": [],
   "source": [
    "import pandas as pd\n",
    "import numpy as np\n",
    "import matplotlib.pyplot as plt\n",
    "import seaborn as sns\n",
    "import plotly.express as px\n",
    "%matplotlib inline"
   ]
  },
  {
   "cell_type": "code",
   "execution_count": 2,
   "id": "490fbd9f",
   "metadata": {},
   "outputs": [],
   "source": [
    "eco_df = pd.read_excel ('..\\Data\\TEIS-NSS Project Data 10-2022.xlsx', sheet_name='ECO with Exit21-22')    "
   ]
  },
  {
   "cell_type": "code",
   "execution_count": 3,
   "id": "059938f3",
   "metadata": {},
   "outputs": [],
   "source": [
    "elig_df = pd.read_excel ('..\\Data\\TEIS-NSS Project Data 10-2022.xlsx', sheet_name = 'Elig Timeline Rpt 2018-2022') "
   ]
  },
  {
   "cell_type": "code",
   "execution_count": 4,
   "id": "b573c5c3",
   "metadata": {},
   "outputs": [],
   "source": [
    "eco_elig_df = pd.merge(eco_df, elig_df, how=\"outer\", left_on= \"CHILD_ID\", right_on='Child ID')"
   ]
  },
  {
   "cell_type": "code",
   "execution_count": 5,
   "id": "d7822840",
   "metadata": {},
   "outputs": [
    {
     "data": {
      "text/plain": [
       "(5595, 98)"
      ]
     },
     "execution_count": 5,
     "metadata": {},
     "output_type": "execute_result"
    }
   ],
   "source": [
    "eco_elig_check = eco_elig_df['OC1 Data Check'].isin([1.0])\n",
    "EEC1 = pd.DataFrame(eco_elig_df[eco_elig_check])\n",
    "\n",
    "EEC1.shape"
   ]
  },
  {
   "cell_type": "code",
   "execution_count": 6,
   "id": "c02058c6",
   "metadata": {},
   "outputs": [
    {
     "data": {
      "text/plain": [
       "5572"
      ]
     },
     "execution_count": 6,
     "metadata": {},
     "output_type": "execute_result"
    }
   ],
   "source": [
    "EEC1['Exit Reason_y'].value_counts().sum()"
   ]
  },
  {
   "cell_type": "code",
   "execution_count": 7,
   "id": "e10b9ac0",
   "metadata": {},
   "outputs": [
    {
     "data": {
      "text/plain": [
       "618 - Part B eligible                                                   1741\n",
       "618 - Part B eligibility not determined                                 1577\n",
       "618 - Parent withdraw                                                   1134\n",
       "618 - Not eligible for Part B – Exit with referral to other programs     308\n",
       "618 - Attempts to contact unsuccessful                                   299\n",
       "618 - Not eligible for Part B – Exit with no referrals                   298\n",
       "618 - Moved out of state                                                 148\n",
       "618 - Completion of IFSP/ no longer requires services                     57\n",
       "618 - Deceased                                                            10\n",
       "Name: Exit Reason_y, dtype: int64"
      ]
     },
     "execution_count": 7,
     "metadata": {},
     "output_type": "execute_result"
    }
   ],
   "source": [
    "EEC1['Exit Reason_y'].value_counts()"
   ]
  },
  {
   "cell_type": "code",
   "execution_count": 8,
   "id": "392f3793",
   "metadata": {},
   "outputs": [],
   "source": [
    "DE = EEC1[EEC1['Init. Elig. Category'] == 'Developmental Evaluation']\n",
    "DE_count = pd.DataFrame(DE['Exit Reason_y'].value_counts())\n",
    "#Part B eligible, #1"
   ]
  },
  {
   "cell_type": "code",
   "execution_count": 9,
   "id": "6533e881",
   "metadata": {},
   "outputs": [
    {
     "data": {
      "text/plain": [
       "4058"
      ]
     },
     "execution_count": 9,
     "metadata": {},
     "output_type": "execute_result"
    }
   ],
   "source": [
    "DE['Exit Reason_y'].value_counts().sum()"
   ]
  },
  {
   "cell_type": "code",
   "execution_count": 10,
   "id": "185ab50b",
   "metadata": {},
   "outputs": [],
   "source": [
    "DC = EEC1[EEC1['Init. Elig. Category'] == 'Diagnosed Condition']\n",
    "DC_count = pd.DataFrame(DC['Exit Reason_y'].value_counts())\n",
    "#Part B eligibility not determined, #1"
   ]
  },
  {
   "cell_type": "code",
   "execution_count": 11,
   "id": "75790aad",
   "metadata": {},
   "outputs": [
    {
     "data": {
      "text/plain": [
       "664"
      ]
     },
     "execution_count": 11,
     "metadata": {},
     "output_type": "execute_result"
    }
   ],
   "source": [
    "DC['Exit Reason_y'].value_counts().sum()"
   ]
  },
  {
   "cell_type": "code",
   "execution_count": 12,
   "id": "ee20edf1",
   "metadata": {},
   "outputs": [],
   "source": [
    "DC_DE = EEC1[EEC1['Init. Elig. Category'] == 'Diagnosed Condition, Developmental Evaluation']\n",
    "DC_DE_count = pd.DataFrame(DC_DE['Exit Reason_y'].value_counts())\n",
    "# Part B eligible, #1\n",
    "#Parent withdraw was #3 for all "
   ]
  },
  {
   "cell_type": "code",
   "execution_count": 13,
   "id": "e1e7a933",
   "metadata": {},
   "outputs": [
    {
     "data": {
      "text/plain": [
       "849"
      ]
     },
     "execution_count": 13,
     "metadata": {},
     "output_type": "execute_result"
    }
   ],
   "source": [
    "DC_DE['Exit Reason_y'].value_counts().sum()"
   ]
  },
  {
   "cell_type": "code",
   "execution_count": 14,
   "id": "1885e7fc",
   "metadata": {},
   "outputs": [
    {
     "data": {
      "text/plain": [
       "5571"
      ]
     },
     "execution_count": 14,
     "metadata": {},
     "output_type": "execute_result"
    }
   ],
   "source": [
    "num = [4058, 664, 849]\n",
    "sum(num)\n",
    "#there are 23 nulls kid so if you count those 5594 "
   ]
  },
  {
   "cell_type": "code",
   "execution_count": 15,
   "id": "b65c08e2",
   "metadata": {
    "scrolled": true
   },
   "outputs": [
    {
     "data": {
      "text/html": [
       "<div>\n",
       "<style scoped>\n",
       "    .dataframe tbody tr th:only-of-type {\n",
       "        vertical-align: middle;\n",
       "    }\n",
       "\n",
       "    .dataframe tbody tr th {\n",
       "        vertical-align: top;\n",
       "    }\n",
       "\n",
       "    .dataframe thead th {\n",
       "        text-align: right;\n",
       "    }\n",
       "</style>\n",
       "<table border=\"1\" class=\"dataframe\">\n",
       "  <thead>\n",
       "    <tr style=\"text-align: right;\">\n",
       "      <th></th>\n",
       "      <th>Exit Reason: Description</th>\n",
       "      <th>Exit Reason: Count</th>\n",
       "    </tr>\n",
       "  </thead>\n",
       "  <tbody>\n",
       "    <tr>\n",
       "      <th>0</th>\n",
       "      <td>618 - Part B eligible</td>\n",
       "      <td>1318</td>\n",
       "    </tr>\n",
       "    <tr>\n",
       "      <th>1</th>\n",
       "      <td>618 - Part B eligibility not determined</td>\n",
       "      <td>1182</td>\n",
       "    </tr>\n",
       "    <tr>\n",
       "      <th>2</th>\n",
       "      <td>618 - Parent withdraw</td>\n",
       "      <td>780</td>\n",
       "    </tr>\n",
       "    <tr>\n",
       "      <th>3</th>\n",
       "      <td>618 - Not eligible for Part B – Exit with no r...</td>\n",
       "      <td>231</td>\n",
       "    </tr>\n",
       "    <tr>\n",
       "      <th>4</th>\n",
       "      <td>618 - Not eligible for Part B – Exit with refe...</td>\n",
       "      <td>227</td>\n",
       "    </tr>\n",
       "    <tr>\n",
       "      <th>5</th>\n",
       "      <td>618 - Attempts to contact unsuccessful</td>\n",
       "      <td>185</td>\n",
       "    </tr>\n",
       "    <tr>\n",
       "      <th>6</th>\n",
       "      <td>618 - Moved out of state</td>\n",
       "      <td>93</td>\n",
       "    </tr>\n",
       "    <tr>\n",
       "      <th>7</th>\n",
       "      <td>618 - Completion of IFSP/ no longer requires s...</td>\n",
       "      <td>38</td>\n",
       "    </tr>\n",
       "    <tr>\n",
       "      <th>8</th>\n",
       "      <td>618 - Deceased</td>\n",
       "      <td>4</td>\n",
       "    </tr>\n",
       "  </tbody>\n",
       "</table>\n",
       "</div>"
      ],
      "text/plain": [
       "                            Exit Reason: Description  Exit Reason: Count\n",
       "0                              618 - Part B eligible                1318\n",
       "1            618 - Part B eligibility not determined                1182\n",
       "2                              618 - Parent withdraw                 780\n",
       "3  618 - Not eligible for Part B – Exit with no r...                 231\n",
       "4  618 - Not eligible for Part B – Exit with refe...                 227\n",
       "5             618 - Attempts to contact unsuccessful                 185\n",
       "6                           618 - Moved out of state                  93\n",
       "7  618 - Completion of IFSP/ no longer requires s...                  38\n",
       "8                                     618 - Deceased                   4"
      ]
     },
     "execution_count": 15,
     "metadata": {},
     "output_type": "execute_result"
    }
   ],
   "source": [
    "DE_count = pd.DataFrame(DE_count.reset_index())\n",
    "DE_count.rename (columns = {'index':'Exit Reason: Description','Exit Reason_y':'Exit Reason: Count'}, inplace=True)\n",
    "DE_count"
   ]
  },
  {
   "cell_type": "code",
   "execution_count": 16,
   "id": "2ac222ea",
   "metadata": {},
   "outputs": [
    {
     "data": {
      "text/html": [
       "<div>\n",
       "<style scoped>\n",
       "    .dataframe tbody tr th:only-of-type {\n",
       "        vertical-align: middle;\n",
       "    }\n",
       "\n",
       "    .dataframe tbody tr th {\n",
       "        vertical-align: top;\n",
       "    }\n",
       "\n",
       "    .dataframe thead th {\n",
       "        text-align: right;\n",
       "    }\n",
       "</style>\n",
       "<table border=\"1\" class=\"dataframe\">\n",
       "  <thead>\n",
       "    <tr style=\"text-align: right;\">\n",
       "      <th></th>\n",
       "      <th>Exit Reason: Description</th>\n",
       "      <th>Exit Reason: Count</th>\n",
       "    </tr>\n",
       "  </thead>\n",
       "  <tbody>\n",
       "    <tr>\n",
       "      <th>0</th>\n",
       "      <td>Part B eligible</td>\n",
       "      <td>1318</td>\n",
       "    </tr>\n",
       "    <tr>\n",
       "      <th>1</th>\n",
       "      <td>Part B eligibility not determined</td>\n",
       "      <td>1182</td>\n",
       "    </tr>\n",
       "    <tr>\n",
       "      <th>2</th>\n",
       "      <td>Parent withdraw</td>\n",
       "      <td>780</td>\n",
       "    </tr>\n",
       "    <tr>\n",
       "      <th>3</th>\n",
       "      <td>Not eligible for Part B – Exit with no referrals</td>\n",
       "      <td>231</td>\n",
       "    </tr>\n",
       "    <tr>\n",
       "      <th>4</th>\n",
       "      <td>Not eligible for Part B – Exit with referral t...</td>\n",
       "      <td>227</td>\n",
       "    </tr>\n",
       "    <tr>\n",
       "      <th>5</th>\n",
       "      <td>Attempts to contact unsuccessful</td>\n",
       "      <td>185</td>\n",
       "    </tr>\n",
       "    <tr>\n",
       "      <th>6</th>\n",
       "      <td>Moved out of state</td>\n",
       "      <td>93</td>\n",
       "    </tr>\n",
       "    <tr>\n",
       "      <th>7</th>\n",
       "      <td>Completion of IFSP/ no longer requires services</td>\n",
       "      <td>38</td>\n",
       "    </tr>\n",
       "    <tr>\n",
       "      <th>8</th>\n",
       "      <td>Deceased</td>\n",
       "      <td>4</td>\n",
       "    </tr>\n",
       "  </tbody>\n",
       "</table>\n",
       "</div>"
      ],
      "text/plain": [
       "                            Exit Reason: Description  Exit Reason: Count\n",
       "0                                    Part B eligible                1318\n",
       "1                  Part B eligibility not determined                1182\n",
       "2                                    Parent withdraw                 780\n",
       "3   Not eligible for Part B – Exit with no referrals                 231\n",
       "4  Not eligible for Part B – Exit with referral t...                 227\n",
       "5                   Attempts to contact unsuccessful                 185\n",
       "6                                 Moved out of state                  93\n",
       "7    Completion of IFSP/ no longer requires services                  38\n",
       "8                                           Deceased                   4"
      ]
     },
     "execution_count": 16,
     "metadata": {},
     "output_type": "execute_result"
    }
   ],
   "source": [
    "DE_count['Exit Reason: Description'] = DE_count['Exit Reason: Description'].str.strip('618 - ')\n",
    "DE_count"
   ]
  },
  {
   "cell_type": "code",
   "execution_count": 17,
   "id": "cd14ac96",
   "metadata": {},
   "outputs": [
    {
     "data": {
      "text/html": [
       "<div>\n",
       "<style scoped>\n",
       "    .dataframe tbody tr th:only-of-type {\n",
       "        vertical-align: middle;\n",
       "    }\n",
       "\n",
       "    .dataframe tbody tr th {\n",
       "        vertical-align: top;\n",
       "    }\n",
       "\n",
       "    .dataframe thead th {\n",
       "        text-align: right;\n",
       "    }\n",
       "</style>\n",
       "<table border=\"1\" class=\"dataframe\">\n",
       "  <thead>\n",
       "    <tr style=\"text-align: right;\">\n",
       "      <th></th>\n",
       "      <th>Exit Reason: Description</th>\n",
       "      <th>Exit Reason: Count</th>\n",
       "    </tr>\n",
       "  </thead>\n",
       "  <tbody>\n",
       "    <tr>\n",
       "      <th>0</th>\n",
       "      <td>Part B eligibility not determined</td>\n",
       "      <td>183</td>\n",
       "    </tr>\n",
       "    <tr>\n",
       "      <th>1</th>\n",
       "      <td>Part B eligible</td>\n",
       "      <td>172</td>\n",
       "    </tr>\n",
       "    <tr>\n",
       "      <th>2</th>\n",
       "      <td>Parent withdraw</td>\n",
       "      <td>156</td>\n",
       "    </tr>\n",
       "    <tr>\n",
       "      <th>3</th>\n",
       "      <td>Attempts to contact unsuccessful</td>\n",
       "      <td>52</td>\n",
       "    </tr>\n",
       "    <tr>\n",
       "      <th>4</th>\n",
       "      <td>Not eligible for Part B – Exit with referral t...</td>\n",
       "      <td>36</td>\n",
       "    </tr>\n",
       "    <tr>\n",
       "      <th>5</th>\n",
       "      <td>Not eligible for Part B – Exit with no referrals</td>\n",
       "      <td>33</td>\n",
       "    </tr>\n",
       "    <tr>\n",
       "      <th>6</th>\n",
       "      <td>Moved out of state</td>\n",
       "      <td>19</td>\n",
       "    </tr>\n",
       "    <tr>\n",
       "      <th>7</th>\n",
       "      <td>Completion of IFSP/ no longer requires services</td>\n",
       "      <td>12</td>\n",
       "    </tr>\n",
       "    <tr>\n",
       "      <th>8</th>\n",
       "      <td>Deceased</td>\n",
       "      <td>1</td>\n",
       "    </tr>\n",
       "  </tbody>\n",
       "</table>\n",
       "</div>"
      ],
      "text/plain": [
       "                            Exit Reason: Description  Exit Reason: Count\n",
       "0                  Part B eligibility not determined                 183\n",
       "1                                    Part B eligible                 172\n",
       "2                                    Parent withdraw                 156\n",
       "3                   Attempts to contact unsuccessful                  52\n",
       "4  Not eligible for Part B – Exit with referral t...                  36\n",
       "5   Not eligible for Part B – Exit with no referrals                  33\n",
       "6                                 Moved out of state                  19\n",
       "7    Completion of IFSP/ no longer requires services                  12\n",
       "8                                           Deceased                   1"
      ]
     },
     "execution_count": 17,
     "metadata": {},
     "output_type": "execute_result"
    }
   ],
   "source": [
    "DC_count = pd.DataFrame(DC_count.reset_index())\n",
    "DC_count.rename (columns = {'index':'Exit Reason: Description','Exit Reason_y':'Exit Reason: Count'}, inplace=True)\n",
    "DC_count\n",
    "\n",
    "DC_count['Exit Reason: Description'] = DC_count['Exit Reason: Description'].str.strip('618 - ')\n",
    "DC_count"
   ]
  },
  {
   "cell_type": "code",
   "execution_count": 18,
   "id": "7788e06e",
   "metadata": {},
   "outputs": [
    {
     "data": {
      "text/html": [
       "<div>\n",
       "<style scoped>\n",
       "    .dataframe tbody tr th:only-of-type {\n",
       "        vertical-align: middle;\n",
       "    }\n",
       "\n",
       "    .dataframe tbody tr th {\n",
       "        vertical-align: top;\n",
       "    }\n",
       "\n",
       "    .dataframe thead th {\n",
       "        text-align: right;\n",
       "    }\n",
       "</style>\n",
       "<table border=\"1\" class=\"dataframe\">\n",
       "  <thead>\n",
       "    <tr style=\"text-align: right;\">\n",
       "      <th></th>\n",
       "      <th>Exit Reason: Description</th>\n",
       "      <th>Exit Reason: Count</th>\n",
       "    </tr>\n",
       "  </thead>\n",
       "  <tbody>\n",
       "    <tr>\n",
       "      <th>0</th>\n",
       "      <td>Part B eligible</td>\n",
       "      <td>250</td>\n",
       "    </tr>\n",
       "    <tr>\n",
       "      <th>1</th>\n",
       "      <td>Part B eligibility not determined</td>\n",
       "      <td>212</td>\n",
       "    </tr>\n",
       "    <tr>\n",
       "      <th>2</th>\n",
       "      <td>Parent withdraw</td>\n",
       "      <td>198</td>\n",
       "    </tr>\n",
       "    <tr>\n",
       "      <th>3</th>\n",
       "      <td>Attempts to contact unsuccessful</td>\n",
       "      <td>62</td>\n",
       "    </tr>\n",
       "    <tr>\n",
       "      <th>4</th>\n",
       "      <td>Not eligible for Part B – Exit with referral t...</td>\n",
       "      <td>45</td>\n",
       "    </tr>\n",
       "    <tr>\n",
       "      <th>5</th>\n",
       "      <td>Moved out of state</td>\n",
       "      <td>36</td>\n",
       "    </tr>\n",
       "    <tr>\n",
       "      <th>6</th>\n",
       "      <td>Not eligible for Part B – Exit with no referrals</td>\n",
       "      <td>34</td>\n",
       "    </tr>\n",
       "    <tr>\n",
       "      <th>7</th>\n",
       "      <td>Completion of IFSP/ no longer requires services</td>\n",
       "      <td>7</td>\n",
       "    </tr>\n",
       "    <tr>\n",
       "      <th>8</th>\n",
       "      <td>Deceased</td>\n",
       "      <td>5</td>\n",
       "    </tr>\n",
       "  </tbody>\n",
       "</table>\n",
       "</div>"
      ],
      "text/plain": [
       "                            Exit Reason: Description  Exit Reason: Count\n",
       "0                                    Part B eligible                 250\n",
       "1                  Part B eligibility not determined                 212\n",
       "2                                    Parent withdraw                 198\n",
       "3                   Attempts to contact unsuccessful                  62\n",
       "4  Not eligible for Part B – Exit with referral t...                  45\n",
       "5                                 Moved out of state                  36\n",
       "6   Not eligible for Part B – Exit with no referrals                  34\n",
       "7    Completion of IFSP/ no longer requires services                   7\n",
       "8                                           Deceased                   5"
      ]
     },
     "execution_count": 18,
     "metadata": {},
     "output_type": "execute_result"
    }
   ],
   "source": [
    "DC_DE_count = pd.DataFrame(DC_DE_count.reset_index())\n",
    "DC_DE_count.rename (columns = {'index':'Exit Reason: Description','Exit Reason_y':'Exit Reason: Count'}, inplace=True)\n",
    "DC_DE_count\n",
    "\n",
    "DC_DE_count['Exit Reason: Description'] = DC_DE_count['Exit Reason: Description'].str.strip('618 - ')\n",
    "DC_DE_count"
   ]
  },
  {
   "cell_type": "markdown",
   "id": "3500e494",
   "metadata": {},
   "source": [
    "## VISUALIZATIONS"
   ]
  },
  {
   "cell_type": "code",
   "execution_count": 46,
   "id": "883bebfe",
   "metadata": {},
   "outputs": [],
   "source": [
    "merged = pd.merge(DC_DE_count, DC_count, how = \"outer\", on = 'Exit Reason: Description')\n",
    "all_cat = pd.merge(DE_count, merged, how = \"outer\", on = 'Exit Reason: Description')\n",
    "all_cat.rename(columns = {'Exit Reason: Description':'Exit Reason','Exit Reason: Count':'Development Evaluation','Exit Reason: Count_x':'Both', 'Exit Reason: Count_y': 'Diagnosed Condition'}, inplace=True)"
   ]
  },
  {
   "cell_type": "code",
   "execution_count": 47,
   "id": "a1d3832f",
   "metadata": {},
   "outputs": [
    {
     "data": {
      "text/html": [
       "<div>\n",
       "<style scoped>\n",
       "    .dataframe tbody tr th:only-of-type {\n",
       "        vertical-align: middle;\n",
       "    }\n",
       "\n",
       "    .dataframe tbody tr th {\n",
       "        vertical-align: top;\n",
       "    }\n",
       "\n",
       "    .dataframe thead th {\n",
       "        text-align: right;\n",
       "    }\n",
       "</style>\n",
       "<table border=\"1\" class=\"dataframe\">\n",
       "  <thead>\n",
       "    <tr style=\"text-align: right;\">\n",
       "      <th></th>\n",
       "      <th>Exit Reason</th>\n",
       "      <th>Development Evaluation</th>\n",
       "      <th>Both</th>\n",
       "      <th>Diagnosed Condition</th>\n",
       "    </tr>\n",
       "  </thead>\n",
       "  <tbody>\n",
       "    <tr>\n",
       "      <th>0</th>\n",
       "      <td>Part B eligible</td>\n",
       "      <td>1318</td>\n",
       "      <td>250</td>\n",
       "      <td>172</td>\n",
       "    </tr>\n",
       "    <tr>\n",
       "      <th>1</th>\n",
       "      <td>Part B eligibility not determined</td>\n",
       "      <td>1182</td>\n",
       "      <td>212</td>\n",
       "      <td>183</td>\n",
       "    </tr>\n",
       "    <tr>\n",
       "      <th>2</th>\n",
       "      <td>Parent withdraw</td>\n",
       "      <td>780</td>\n",
       "      <td>198</td>\n",
       "      <td>156</td>\n",
       "    </tr>\n",
       "    <tr>\n",
       "      <th>3</th>\n",
       "      <td>Not eligible for Part B – Exit with no referrals</td>\n",
       "      <td>231</td>\n",
       "      <td>34</td>\n",
       "      <td>33</td>\n",
       "    </tr>\n",
       "    <tr>\n",
       "      <th>4</th>\n",
       "      <td>Not eligible for Part B – Exit with referral t...</td>\n",
       "      <td>227</td>\n",
       "      <td>45</td>\n",
       "      <td>36</td>\n",
       "    </tr>\n",
       "    <tr>\n",
       "      <th>5</th>\n",
       "      <td>Attempts to contact unsuccessful</td>\n",
       "      <td>185</td>\n",
       "      <td>62</td>\n",
       "      <td>52</td>\n",
       "    </tr>\n",
       "    <tr>\n",
       "      <th>6</th>\n",
       "      <td>Moved out of state</td>\n",
       "      <td>93</td>\n",
       "      <td>36</td>\n",
       "      <td>19</td>\n",
       "    </tr>\n",
       "    <tr>\n",
       "      <th>7</th>\n",
       "      <td>Completion of IFSP/ no longer requires services</td>\n",
       "      <td>38</td>\n",
       "      <td>7</td>\n",
       "      <td>12</td>\n",
       "    </tr>\n",
       "    <tr>\n",
       "      <th>8</th>\n",
       "      <td>Deceased</td>\n",
       "      <td>4</td>\n",
       "      <td>5</td>\n",
       "      <td>1</td>\n",
       "    </tr>\n",
       "  </tbody>\n",
       "</table>\n",
       "</div>"
      ],
      "text/plain": [
       "                                         Exit Reason  Development Evaluation  \\\n",
       "0                                    Part B eligible                    1318   \n",
       "1                  Part B eligibility not determined                    1182   \n",
       "2                                    Parent withdraw                     780   \n",
       "3   Not eligible for Part B – Exit with no referrals                     231   \n",
       "4  Not eligible for Part B – Exit with referral t...                     227   \n",
       "5                   Attempts to contact unsuccessful                     185   \n",
       "6                                 Moved out of state                      93   \n",
       "7    Completion of IFSP/ no longer requires services                      38   \n",
       "8                                           Deceased                       4   \n",
       "\n",
       "   Both  Diagnosed Condition  \n",
       "0   250                  172  \n",
       "1   212                  183  \n",
       "2   198                  156  \n",
       "3    34                   33  \n",
       "4    45                   36  \n",
       "5    62                   52  \n",
       "6    36                   19  \n",
       "7     7                   12  \n",
       "8     5                    1  "
      ]
     },
     "execution_count": 47,
     "metadata": {},
     "output_type": "execute_result"
    }
   ],
   "source": [
    "all_cat"
   ]
  },
  {
   "cell_type": "code",
   "execution_count": 50,
   "id": "8cdc41f7",
   "metadata": {
    "scrolled": true
   },
   "outputs": [
    {
     "data": {
      "text/plain": [
       "<AxesSubplot:ylabel='Exit Reason'>"
      ]
     },
     "execution_count": 50,
     "metadata": {},
     "output_type": "execute_result"
    },
    {
     "data": {
      "image/png": "[encoded data removed]",
      "text/plain": [
       "<Figure size 432x288 with 1 Axes>"
      ]
     },
     "metadata": {
      "needs_background": "light"
     },
     "output_type": "display_data"
    }
   ],
   "source": [
    "all_cat.set_index('Exit Reason').plot(kind='barh', stacked=True)"
   ]
  }
 ],
 "metadata": {
  "kernelspec": {
   "display_name": "Python 3 (ipykernel)",
   "language": "python",
   "name": "python3"
  },
  "language_info": {
   "codemirror_mode": {
    "name": "ipython",
    "version": 3
   },
   "file_extension": ".py",
   "mimetype": "text/x-python",
   "name": "python",
   "nbconvert_exporter": "python",
   "pygments_lexer": "ipython3",
   "version": "3.9.12"
  }
 },
 "nbformat": 4,
 "nbformat_minor": 5
}
