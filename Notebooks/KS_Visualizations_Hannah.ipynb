{
 "cells": [
  {
   "cell_type": "code",
   "execution_count": null,
   "id": "9ef469ee",
   "metadata": {},
   "outputs": [],
   "source": [
    "import pandas as pd\n",
    "import numpy as np\n",
    "import matplotlib.pyplot as plt\n",
    "import seaborn as sns\n",
    "import plotly.express as px\n",
    "%matplotlib inline\n",
    "from colorama import Fore, Style"
   ]
  },
  {
   "cell_type": "code",
   "execution_count": null,
   "id": "a91a1248",
   "metadata": {},
   "outputs": [],
   "source": [
    "elig_df = pd.read_excel ('..\\Data\\TEIS-NSS Project Data 10-2022.xlsx', sheet_name = 'Elig Timeline Rpt 2018-2022') "
   ]
  },
  {
   "cell_type": "code",
   "execution_count": null,
   "id": "9f738ab6",
   "metadata": {
    "scrolled": true
   },
   "outputs": [],
   "source": [
    "elig_df['Exit Reason'].value_counts()"
   ]
  },
  {
   "cell_type": "code",
   "execution_count": null,
   "id": "ede9d6e0",
   "metadata": {},
   "outputs": [],
   "source": [
    "null = elig_df['Exit Reason'].isnull().sum()\n",
    "#8158"
   ]
  },
  {
   "cell_type": "code",
   "execution_count": null,
   "id": "5d40d1a4",
   "metadata": {},
   "outputs": [],
   "source": [
    "total_rows = elig_df['Exit Reason'].value_counts().sum()\n",
    "#59,456"
   ]
  },
  {
   "cell_type": "code",
   "execution_count": null,
   "id": "2927db77",
   "metadata": {},
   "outputs": [],
   "source": [
    "DE = elig_df[elig_df['Init. Elig. Category'] == 'Developmental Evaluation']\n",
    "DE_count = pd.DataFrame(DE['Exit Reason'].value_counts())\n",
    "#Part B eligible, #1"
   ]
  },
  {
   "cell_type": "code",
   "execution_count": null,
   "id": "0172f13d",
   "metadata": {},
   "outputs": [],
   "source": [
    "DEcount = DE['Exit Reason'].value_counts().sum()\n",
    "#22,819"
   ]
  },
  {
   "cell_type": "code",
   "execution_count": null,
   "id": "58681cfc",
   "metadata": {},
   "outputs": [],
   "source": [
    "DC = elig_df[elig_df['Init. Elig. Category'] == 'Diagnosed Condition']\n",
    "DC_count = pd.DataFrame(DC['Exit Reason'].value_counts())\n",
    "#Part B eligibility not determined, #1"
   ]
  },
  {
   "cell_type": "code",
   "execution_count": null,
   "id": "c073ec25",
   "metadata": {},
   "outputs": [],
   "source": [
    "DCcount = DC['Exit Reason'].value_counts().sum()\n",
    "#3,718"
   ]
  },
  {
   "cell_type": "code",
   "execution_count": null,
   "id": "073f4dc8",
   "metadata": {},
   "outputs": [],
   "source": [
    "DC_DE = elig_df[elig_df['Init. Elig. Category'] == 'Diagnosed Condition, Developmental Evaluation']\n",
    "DC_DE_count = pd.DataFrame(DC_DE['Exit Reason'].value_counts())\n",
    "# Part B eligible, #1\n",
    "#Parent withdraw was #3 for all "
   ]
  },
  {
   "cell_type": "code",
   "execution_count": null,
   "id": "2e76f786",
   "metadata": {},
   "outputs": [],
   "source": [
    "DCDEcount = DC_DE['Exit Reason'].value_counts().sum()\n",
    "#3,600"
   ]
  },
  {
   "cell_type": "code",
   "execution_count": null,
   "id": "5162ece8",
   "metadata": {},
   "outputs": [],
   "source": [
    "print('\\33[1mDevelopment Evaluation Count: \\33[m' + str(DEcount))\n",
    "print('\\33[1mDiagnosed Condition Count: \\33[m' + str(DCcount))\n",
    "print('\\33[1mBoth (DE & DC) Count: \\33[m' + str(DCDEcount))\n",
    "print('\\33[1mNull Count: \\33[m' + str(null))\n",
    "num = [DEcount, DCcount, DCDEcount, null]\n",
    "print('\\33[1mTotal Count: \\33[m' + str(sum(num)))\n",
    "print('\\33[1mTotal Row Count: \\33[m' + str(total_rows))\n",
    "print(Fore.RED + '\\33[1mDifference: \\33[m' + str(total_rows - sum(num)))"
   ]
  },
  {
   "cell_type": "code",
   "execution_count": null,
   "id": "0d166462",
   "metadata": {
    "scrolled": true
   },
   "outputs": [],
   "source": [
    "DE_count = pd.DataFrame(DE_count.reset_index())\n",
    "DE_count.rename (columns = {'index':'Exit Reason: Description','Exit Reason':'Exit Reason: Count'}, inplace=True)\n",
    "DE_count"
   ]
  },
  {
   "cell_type": "code",
   "execution_count": null,
   "id": "a297b7e3",
   "metadata": {},
   "outputs": [],
   "source": [
    "DE_count['Exit Reason: Description'] = DE_count['Exit Reason: Description'].str.strip('618 - ')\n",
    "DE_count"
   ]
  },
  {
   "cell_type": "code",
   "execution_count": null,
   "id": "4d0d0093",
   "metadata": {},
   "outputs": [],
   "source": [
    "DC_count = pd.DataFrame(DC_count.reset_index())\n",
    "DC_count.rename (columns = {'index':'Exit Reason: Description','Exit Reason':'Exit Reason: Count'}, inplace=True)\n",
    "DC_count\n",
    "\n",
    "DC_count['Exit Reason: Description'] = DC_count['Exit Reason: Description'].str.strip('618 - ')\n",
    "DC_count"
   ]
  },
  {
   "cell_type": "code",
   "execution_count": null,
   "id": "53bf265c",
   "metadata": {
    "scrolled": true
   },
   "outputs": [],
   "source": [
    "DC_DE_count = pd.DataFrame(DC_DE_count.reset_index())\n",
    "DC_DE_count.rename (columns = {'index':'Exit Reason: Description','Exit Reason':'Exit Reason: Count'}, inplace=True)\n",
    "DC_DE_count\n",
    "\n",
    "DC_DE_count['Exit Reason: Description'] = DC_DE_count['Exit Reason: Description'].str.strip('618 - ')\n",
    "DC_DE_count"
   ]
  },
  {
   "cell_type": "markdown",
   "id": "0eb0b49e",
   "metadata": {},
   "source": [
    "## VISUALIZATIONS"
   ]
  },
  {
   "cell_type": "code",
   "execution_count": null,
   "id": "47ce89c8",
   "metadata": {},
   "outputs": [],
   "source": [
    "merged = pd.merge(DC_DE_count, DC_count, how = \"outer\", on = 'Exit Reason: Description')\n",
    "all_cat = pd.merge(DE_count, merged, how = \"outer\", on = 'Exit Reason: Description')\n",
    "all_cat.rename(columns = {'Exit Reason: Description':'Exit Reason','Exit Reason: Count':'Development Evaluation','Exit Reason: Count_x':'Both', 'Exit Reason: Count_y': 'Diagnosed Condition'}, inplace=True)"
   ]
  },
  {
   "cell_type": "code",
   "execution_count": null,
   "id": "912bd80c",
   "metadata": {
    "scrolled": true
   },
   "outputs": [],
   "source": [
    "all_cat = all_cat.fillna(0)\n",
    "all_cat['Both'] = all_cat['Both'].astype(int)\n",
    "all_cat['Diagnosed Condition'] = all_cat['Diagnosed Condition'].astype(int)\n",
    "all_cat.info()"
   ]
  },
  {
   "cell_type": "code",
   "execution_count": null,
   "id": "64006e06",
   "metadata": {
    "scrolled": true
   },
   "outputs": [],
   "source": [
    "all_cat.set_index('Exit Reason').plot(kind='barh', stacked=True, color = ('gold','orange','tomato'))\n",
    "plt.title('Exit Reasons by Eligibility Category', fontsize = 20)\n",
    "plt.xlabel('Children in Part C', fontsize = 15)\n",
    "plt.ylabel('Exit Reason', fontsize = 15)\n",
    "\n",
    "tick_val = [0,1000,2000,3000,4000,5000, 6000,7000]\n",
    "tick_lab = ['0', '1k', '2k','3k','4k','5k','6k', '7k']\n",
    "plt.xticks(tick_val,tick_lab);"
   ]
  },
  {
   "cell_type": "markdown",
   "id": "a6e0044b",
   "metadata": {},
   "source": [
    "working on more visuals"
   ]
  }
 ],
 "metadata": {
  "kernelspec": {
   "display_name": "Python 3 (ipykernel)",
   "language": "python",
   "name": "python3"
  },
  "language_info": {
   "codemirror_mode": {
    "name": "ipython",
    "version": 3
   },
   "file_extension": ".py",
   "mimetype": "text/x-python",
   "name": "python",
   "nbconvert_exporter": "python",
   "pygments_lexer": "ipython3",
   "version": "3.9.12"
  }
 },
 "nbformat": 4,
 "nbformat_minor": 5
}
