{
 "cells": [
  {
   "cell_type": "code",
   "execution_count": null,
   "id": "7f7fde2b",
   "metadata": {},
   "outputs": [],
   "source": [
    "import pandas as pd\n",
    "import numpy as np\n",
    "import matplotlib.pyplot as plt\n",
    "import seaborn as sns\n",
    "import plotly.express as px\n",
    "%matplotlib inline"
   ]
  },
  {
   "cell_type": "code",
   "execution_count": null,
   "id": "d939b0f9",
   "metadata": {},
   "outputs": [],
   "source": [
    "eco_df = pd.read_excel ('..\\Data\\TEIS-NSS Project Data 10-2022.xlsx', sheet_name='ECO with Exit21-22')    "
   ]
  },
  {
   "cell_type": "code",
   "execution_count": null,
   "id": "96ece50e",
   "metadata": {},
   "outputs": [],
   "source": [
    "elig_df = pd.read_excel ('..\\Data\\TEIS-NSS Project Data 10-2022.xlsx', sheet_name = 'Elig Timeline Rpt 2018-2022') "
   ]
  },
  {
   "cell_type": "code",
   "execution_count": null,
   "id": "dfa267d4",
   "metadata": {},
   "outputs": [],
   "source": [
    "eco_elig_df = pd.merge(eco_df, elig_df, how=\"outer\", left_on= \"CHILD_ID\", right_on='Child ID')"
   ]
  },
  {
   "cell_type": "code",
   "execution_count": null,
   "id": "36387a46",
   "metadata": {},
   "outputs": [],
   "source": [
    "eco_elig_check = eco_elig_df['OC1 Data Check'].isin([1.0])\n",
    "EEC1 = pd.DataFrame(eco_elig_df[eco_elig_check])\n",
    "\n",
    "EEC1.shape"
   ]
  },
  {
   "cell_type": "code",
   "execution_count": null,
   "id": "e67839ff",
   "metadata": {},
   "outputs": [],
   "source": [
    "EEC1['Exit Reason_y'].value_counts().sum()"
   ]
  },
  {
   "cell_type": "code",
   "execution_count": null,
   "id": "a8a7d459",
   "metadata": {},
   "outputs": [],
   "source": [
    "EEC1['Exit Reason_y'].value_counts()"
   ]
  },
  {
   "cell_type": "code",
   "execution_count": null,
   "id": "8e27c8c2",
   "metadata": {},
   "outputs": [],
   "source": [
    "DE = EEC1[EEC1['Init. Elig. Category'] == 'Developmental Evaluation']\n",
    "DE_count = pd.DataFrame(DE['Exit Reason_y'].value_counts())\n",
    "#Part B eligible, #1"
   ]
  },
  {
   "cell_type": "code",
   "execution_count": null,
   "id": "51a2bcf4",
   "metadata": {},
   "outputs": [],
   "source": [
    "DE['Exit Reason_y'].value_counts().sum()"
   ]
  },
  {
   "cell_type": "code",
   "execution_count": null,
   "id": "6e9bba53",
   "metadata": {},
   "outputs": [],
   "source": [
    "DC = EEC1[EEC1['Init. Elig. Category'] == 'Diagnosed Condition']\n",
    "DC_count = pd.DataFrame(DC['Exit Reason_y'].value_counts())\n",
    "#Part B eligibility not determined, #1"
   ]
  },
  {
   "cell_type": "code",
   "execution_count": null,
   "id": "474cc23d",
   "metadata": {},
   "outputs": [],
   "source": [
    "DC['Exit Reason_y'].value_counts().sum()"
   ]
  },
  {
   "cell_type": "code",
   "execution_count": null,
   "id": "cf00b94f",
   "metadata": {},
   "outputs": [],
   "source": [
    "DC_DE = EEC1[EEC1['Init. Elig. Category'] == 'Diagnosed Condition, Developmental Evaluation']\n",
    "DC_DE_count = pd.DataFrame(DC_DE['Exit Reason_y'].value_counts())\n",
    "# Part B eligible, #1\n",
    "#Parent withdraw was #3 for all "
   ]
  },
  {
   "cell_type": "code",
   "execution_count": null,
   "id": "a499d501",
   "metadata": {},
   "outputs": [],
   "source": [
    "DC_DE['Exit Reason_y'].value_counts().sum()"
   ]
  },
  {
   "cell_type": "code",
   "execution_count": null,
   "id": "7e7a63b4",
   "metadata": {},
   "outputs": [],
   "source": [
    "num = [4058, 664, 849]\n",
    "sum(num)\n",
    "#there are 23 nulls kid so if you count those 5594 "
   ]
  },
  {
   "cell_type": "code",
   "execution_count": null,
   "id": "c0d8b8d8",
   "metadata": {
    "scrolled": true
   },
   "outputs": [],
   "source": [
    "DE_count = pd.DataFrame(DE_count.reset_index())\n",
    "DE_count.rename (columns = {'index':'Exit Reason: Description','Exit Reason_y':'Exit Reason: Count'}, inplace=True)\n",
    "DE_count"
   ]
  },
  {
   "cell_type": "code",
   "execution_count": null,
   "id": "415c9ed9",
   "metadata": {},
   "outputs": [],
   "source": [
    "DE_count['Exit Reason: Description'] = DE_count['Exit Reason: Description'].str.strip('618 - ')\n",
    "DE_count"
   ]
  },
  {
   "cell_type": "code",
   "execution_count": null,
   "id": "fcf6db95",
   "metadata": {},
   "outputs": [],
   "source": [
    "DC_count = pd.DataFrame(DC_count.reset_index())\n",
    "DC_count.rename (columns = {'index':'Exit Reason: Description','Exit Reason_y':'Exit Reason: Count'}, inplace=True)\n",
    "DC_count\n",
    "\n",
    "DC_count['Exit Reason: Description'] = DC_count['Exit Reason: Description'].str.strip('618 - ')\n",
    "DC_count"
   ]
  },
  {
   "cell_type": "code",
   "execution_count": null,
   "id": "387c092f",
   "metadata": {},
   "outputs": [],
   "source": [
    "DC_DE_count = pd.DataFrame(DC_DE_count.reset_index())\n",
    "DC_DE_count.rename (columns = {'index':'Exit Reason: Description','Exit Reason_y':'Exit Reason: Count'}, inplace=True)\n",
    "DC_DE_count\n",
    "\n",
    "DC_DE_count['Exit Reason: Description'] = DC_DE_count['Exit Reason: Description'].str.strip('618 - ')\n",
    "DC_DE_count"
   ]
  },
  {
   "cell_type": "markdown",
   "id": "63be4274",
   "metadata": {},
   "source": [
    "## VISUALIZATIONS"
   ]
  },
  {
   "cell_type": "code",
   "execution_count": null,
   "id": "6d7794af",
   "metadata": {},
   "outputs": [],
   "source": [
    "merged = pd.merge(DC_DE_count, DC_count, how = \"outer\", on = 'Exit Reason: Description')\n",
    "all_cat = pd.merge(DE_count, merged, how = \"outer\", on = 'Exit Reason: Description')\n",
    "all_cat.rename(columns = {'Exit Reason: Description':'Exit Reason','Exit Reason: Count':'Development Evaluation','Exit Reason: Count_x':'Both', 'Exit Reason: Count_y': 'Diagnosed Condition'}, inplace=True)"
   ]
  },
  {
   "cell_type": "code",
   "execution_count": null,
   "id": "b3c82413",
   "metadata": {},
   "outputs": [],
   "source": [
    "all_cat"
   ]
  },
  {
   "cell_type": "code",
   "execution_count": null,
   "id": "d36dd6aa",
   "metadata": {
    "scrolled": true
   },
   "outputs": [],
   "source": [
    "all_cat.set_index('Exit Reason').plot(kind='barh', stacked=True)"
   ]
  }
 ],
 "metadata": {
  "kernelspec": {
   "display_name": "Python 3 (ipykernel)",
   "language": "python",
   "name": "python3"
  },
  "language_info": {
   "codemirror_mode": {
    "name": "ipython",
    "version": 3
   },
   "file_extension": ".py",
   "mimetype": "text/x-python",
   "name": "python",
   "nbconvert_exporter": "python",
   "pygments_lexer": "ipython3",
   "version": "3.9.12"
  }
 },
 "nbformat": 4,
 "nbformat_minor": 5
}
