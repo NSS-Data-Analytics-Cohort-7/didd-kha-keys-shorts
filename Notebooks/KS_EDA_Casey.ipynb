{
 "cells": [
  {
   "cell_type": "code",
   "execution_count": null,
   "id": "63930c89",
   "metadata": {},
   "outputs": [],
   "source": [
    "import pandas as pd\n",
    "import numpy as np\n",
    "import matplotlib as plt\n",
    "import seaborn as sns"
   ]
  },
  {
   "cell_type": "code",
   "execution_count": null,
   "id": "e3a911af",
   "metadata": {},
   "outputs": [],
   "source": [
    "diag_delay_sheet = pd.read_excel('../Data/TEIS.xlsx', \n",
    "                                 sheet_name='Elig Timeline Rpt 2018-2022')\n"
   ]
  },
  {
   "cell_type": "code",
   "execution_count": null,
   "id": "fc710d10",
   "metadata": {},
   "outputs": [],
   "source": [
    "diag_delay_sheet.head()"
   ]
  },
  {
   "cell_type": "code",
   "execution_count": null,
   "id": "f1de9dbd",
   "metadata": {},
   "outputs": [],
   "source": [
    "ent_data_sheet = pd.read_excel('../Data/TEIS.xlsx', sheet_name='ECO with Exit21-22')"
   ]
  },
  {
   "cell_type": "code",
   "execution_count": null,
   "id": "ba133fc3",
   "metadata": {},
   "outputs": [],
   "source": [
    "ent_data_sheet.head()"
   ]
  },
  {
   "cell_type": "code",
   "execution_count": null,
   "id": "e5d833f2",
   "metadata": {},
   "outputs": [],
   "source": [
    "diag_delay_sheet.dtypes"
   ]
  },
  {
   "cell_type": "code",
   "execution_count": null,
   "id": "4fe49490",
   "metadata": {},
   "outputs": [],
   "source": [
    "ent_data_sheet.dtypes"
   ]
  },
  {
   "cell_type": "code",
   "execution_count": null,
   "id": "4307458e",
   "metadata": {},
   "outputs": [],
   "source": []
  }
 ],
 "metadata": {
  "kernelspec": {
   "display_name": "Python 3",
   "language": "python",
   "name": "python3"
  },
  "language_info": {
   "codemirror_mode": {
    "name": "ipython",
    "version": 3
   },
   "file_extension": ".py",
   "mimetype": "text/x-python",
   "name": "python",
   "nbconvert_exporter": "python",
   "pygments_lexer": "ipython3",
   "version": "3.8.8"
  }
 },
 "nbformat": 4,
 "nbformat_minor": 5
}
