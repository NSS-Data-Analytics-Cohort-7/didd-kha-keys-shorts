{
 "cells": [
  {
   "cell_type": "code",
   "execution_count": null,
   "id": "d331c1e3",
   "metadata": {},
   "outputs": [],
   "source": [
    "import pandas as pd\n",
    "import numpy as np\n",
    "import matplotlib.pyplot as plt\n",
    "import seaborn as sns"
   ]
  },
  {
   "cell_type": "code",
   "execution_count": null,
   "id": "45060f37",
   "metadata": {},
   "outputs": [],
   "source": [
    "%matplotlib inline"
   ]
  },
  {
   "cell_type": "code",
   "execution_count": null,
   "id": "011c67bb",
   "metadata": {},
   "outputs": [],
   "source": [
    "eco_df = pd.read_excel(\"../Data/TEIS-NSS Project Data 10-2022.xlsx\", sheet_name ='ECO with Exit21-22')"
   ]
  },
  {
   "cell_type": "code",
   "execution_count": null,
   "id": "4a5f4139",
   "metadata": {},
   "outputs": [],
   "source": [
    "elig_df = pd.read_excel(\"../Data/TEIS-NSS Project Data 10-2022.xlsx\", sheet_name ='Elig Timeline Rpt 2018-2022')"
   ]
  },
  {
   "cell_type": "code",
   "execution_count": null,
   "id": "13a937a9",
   "metadata": {},
   "outputs": [],
   "source": [
    "eco_df.head()"
   ]
  },
  {
   "cell_type": "code",
   "execution_count": null,
   "id": "1b4b3531",
   "metadata": {
    "scrolled": true
   },
   "outputs": [],
   "source": [
    "elig_df.head()"
   ]
  },
  {
   "cell_type": "code",
   "execution_count": null,
   "id": "55090d90",
   "metadata": {},
   "outputs": [],
   "source": [
    "eco_df.shape"
   ]
  },
  {
   "cell_type": "code",
   "execution_count": null,
   "id": "ac2fc091",
   "metadata": {},
   "outputs": [],
   "source": [
    "elig_df.shape"
   ]
  },
  {
   "cell_type": "code",
   "execution_count": null,
   "id": "571edcfd",
   "metadata": {},
   "outputs": [],
   "source": [
    "print(elig_df.dtypes)"
   ]
  },
  {
   "cell_type": "code",
   "execution_count": null,
   "id": "1339309d",
   "metadata": {},
   "outputs": [],
   "source": [
    "eco_df = eco_df[(eco_df['OC1 Data Check'] == 1)]"
   ]
  },
  {
   "cell_type": "code",
   "execution_count": null,
   "id": "ba9dd85a",
   "metadata": {},
   "outputs": [],
   "source": [
    "eco_df = eco_df[(eco_df['OC2 Data Check'] == 1)]"
   ]
  },
  {
   "cell_type": "code",
   "execution_count": null,
   "id": "18cd92e5",
   "metadata": {},
   "outputs": [],
   "source": [
    "eco_df = eco_df[(eco_df['OC3 Data Check'] == 1)]"
   ]
  },
  {
   "cell_type": "code",
   "execution_count": null,
   "id": "53ce29ed",
   "metadata": {},
   "outputs": [],
   "source": [
    "eco_df.shape"
   ]
  },
  {
   "cell_type": "code",
   "execution_count": null,
   "id": "240d308c",
   "metadata": {},
   "outputs": [],
   "source": [
    "eco_df.rename(columns={'CHILD_ID' : 'Child ID'}, inplace = True)"
   ]
  },
  {
   "cell_type": "code",
   "execution_count": null,
   "id": "87413fc8",
   "metadata": {
    "scrolled": true
   },
   "outputs": [],
   "source": [
    "eco_df"
   ]
  },
  {
   "cell_type": "code",
   "execution_count": null,
   "id": "e6f64e60",
   "metadata": {},
   "outputs": [],
   "source": [
    "combined_data = pd.merge(eco_df, elig_df, on = 'Child ID', how = 'inner')"
   ]
  },
  {
   "cell_type": "code",
   "execution_count": null,
   "id": "3e5ee28a",
   "metadata": {},
   "outputs": [],
   "source": [
    "combined_data.shape"
   ]
  },
  {
   "cell_type": "code",
   "execution_count": null,
   "id": "5df50613",
   "metadata": {},
   "outputs": [],
   "source": [
    "dev_eval = combined_data[(combined_data['Init. Elig. Category'] == \"Developmental Evaluation\")]"
   ]
  },
  {
   "cell_type": "code",
   "execution_count": null,
   "id": "744feb7b",
   "metadata": {
    "scrolled": true
   },
   "outputs": [],
   "source": [
    "dev_eval"
   ]
  },
  {
   "cell_type": "code",
   "execution_count": null,
   "id": "6076f358",
   "metadata": {},
   "outputs": [],
   "source": [
    "diagnosed = combined_data[(combined_data['Init. Elig. Category'] == \"Diagnosed Condition\")]"
   ]
  },
  {
   "cell_type": "code",
   "execution_count": null,
   "id": "c1a394bd",
   "metadata": {},
   "outputs": [],
   "source": [
    "diagnosed"
   ]
  },
  {
   "cell_type": "code",
   "execution_count": null,
   "id": "59303150",
   "metadata": {},
   "outputs": [],
   "source": [
    "diag_and_dev = combined_data[(combined_data['Init. Elig. Category'] == \"Diagnosed Condition, Developmental Evaluation\")]"
   ]
  },
  {
   "cell_type": "code",
   "execution_count": null,
   "id": "190b29c1",
   "metadata": {},
   "outputs": [],
   "source": [
    "diag_and_dev"
   ]
  },
  {
   "cell_type": "code",
   "execution_count": null,
   "id": "7d8acef3",
   "metadata": {},
   "outputs": [],
   "source": []
  }
 ],
 "metadata": {
  "kernelspec": {
   "display_name": "Python 3 (ipykernel)",
   "language": "python",
   "name": "python3"
  },
  "language_info": {
   "codemirror_mode": {
    "name": "ipython",
    "version": 3
   },
   "file_extension": ".py",
   "mimetype": "text/x-python",
   "name": "python",
   "nbconvert_exporter": "python",
   "pygments_lexer": "ipython3",
   "version": "3.9.12"
  }
 },
 "nbformat": 4,
 "nbformat_minor": 5
}
